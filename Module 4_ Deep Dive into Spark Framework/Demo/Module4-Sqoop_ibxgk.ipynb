{
 "cells": [
  {
   "cell_type": "markdown",
   "metadata": {
    "collapsed": true
   },
   "source": [
    "<code>$ mysql -h mysqldb.edu.cloudlab.com -u labuser --password=edureka\n",
    "\n",
    "$ mysql --version\n",
    "\n",
    "-- use your login id 6 digits to create database\n",
    "$ mysql> drop database if exists sq121039; \n",
    "$ mysql> create database sq121039; \n",
    "$ mysql> use sq121039; \n",
    "\n",
    "$ mysql> create table employee(id int not null, name varchar(20) not null, age int not null, salary integer(10)); \n",
    "$ mysql> show tables; \n",
    "\n",
    "$ mysql> insert into employee values(1, 'Bill', 30, 10000); \n",
    "$ mysql> insert into employee values(2, 'Steve', 40, 12000); \n",
    "$ mysql> insert into employee values(3, 'Donald', 70, 13000); \n",
    "$ mysql> insert into employee values(4, 'Modi', 65, 9000); \n",
    "$ mysql> insert into employee values(5, 'Sundar', 50, 25000); \n",
    "$ mysql> insert into employee values(6, 'Jeff', 40, 30000); \n",
    "$ mysql> insert into employee values(7, 'Sergey', 45, 75000); \n",
    "$ mysql> insert into employee values(8, 'Larry', 45, 75000); \n",
    "$ mysql> insert into employee values(9, 'Xi', 50, 60000); \n",
    "$ mysql> commit; \n",
    "$ mysql> show tables; \n",
    "$ mysql> select * from employee; \n",
    "$ mysql> quit; </code>"
   ]
  },
  {
   "cell_type": "markdown",
   "metadata": {
    "collapsed": true
   },
   "source": [
    "# Import\n",
    "\n",
    "$ <code>sqoop import --connect jdbc:mysql://mysqldb.edu.cloudlab.com/sq121039 --username=labuser --password=edureka --table employee -m 1 -target-dir '/user/edureka_121039/sq121039_employees_1'</code>\n",
    "\n",
    "### Verify output\n",
    "* check hue for directory sq121039_employees and refer part-0000 file there\n",
    "* hadoop fs -ls sq121039_employees\n",
    "* hadoop fs -cat sq121039_employees/part-m-00000 | head -n 3\n"
   ]
  },
  {
   "cell_type": "markdown",
   "metadata": {
    "collapsed": true
   },
   "source": [
    "# Import with limit on number of records\n",
    "\n",
    "$ <code>sqoop eval --connect jdbc:mysql://mysqldb.edu.cloudlab.com/sq121039 --username labuser --password edureka --query 'Select * from employee limit 6'</code>"
   ]
  },
  {
   "cell_type": "markdown",
   "metadata": {
    "collapsed": true
   },
   "source": [
    "# Import using query\n",
    "\n",
    "$CONDITIONS is mandatorily required in sqoop queries unless run using eval : https://stackoverflow.com/questions/35680370/sqoop-import-having-sql-query-with-where-clause\n",
    "\n",
    "<code>$ sqoop import --connect jdbc:mysql://mysqldb.edu.cloudlab.com/sq121039 --username labuser --password edureka --query 'Select * from employee where $CONDITIONS limit 6' -m 1 -target-dir '/user/edureka_121039/sq121039_employees_only6'</code>"
   ]
  },
  {
   "cell_type": "markdown",
   "metadata": {
    "collapsed": true
   },
   "source": [
    "# Incremental import\n",
    "\n",
    "<code>$ sqoop import --connect jdbc:mysql://mysqldb.edu.cloudlab.com/sq121039 --username=labuser --password=edureka --table employee -target-dir '/user/edureka_121039/sq121039_employees_only6' --incremental append --check-column id --last-value 8 -m 1</code>"
   ]
  },
  {
   "cell_type": "markdown",
   "metadata": {
    "collapsed": true
   },
   "source": [
    "# List databases\n",
    "\n",
    "<code>$ sqoop list-databases --connect jdbc:mysql://mysqldb.edu.cloudlab.com/ --username=labuser --password=edureka\n",
    "$ sqoop list-databases --connect jdbc:mysql://mysqldb.edu.cloudlab.com/edureka --username=labuser --password=edureka\n",
    "$ sqoop list-databases --connect jdbc:mysql://mysqldb.edu.cloudlab.com/sq121039 --username=labuser --password=edureka</code>"
   ]
  },
  {
   "cell_type": "markdown",
   "metadata": {
    "collapsed": true
   },
   "source": [
    "# List Tables\n",
    "\n",
    "<code>$ sqoop list-tables --connect jdbc:mysql://mysqldb.edu.cloudlab.com/sq121039 --username=labuser --password=edureka\n",
    "$ sqoop list-tables --connect jdbc:mysql://mysqldb.edu.cloudlab.com/user --username=labuser --password=edureka</code>"
   ]
  },
  {
   "cell_type": "markdown",
   "metadata": {
    "collapsed": true
   },
   "source": [
    "# Eval\n",
    "\n",
    "<code>$ sqoop eval --connect jdbc:mysql://mysqldb.edu.cloudlab.com/edureka --username=labuser --password edureka --query 'select table_schema, count(\\*) from information_schema.tables group by 1 having count(\\*) > 10 order by 2 desc'</code>"
   ]
  },
  {
   "cell_type": "markdown",
   "metadata": {
    "collapsed": true
   },
   "source": [
    "# Codegen\n",
    "In object-oriented application, every database table has one Data Access Object class that contains ‘getter’ and ‘setter’ methods to initialize objects. Codegen generates the DAO class automatically. It generates DAO class in Java, based on the Table Schema structure.\n",
    "\n",
    "<code>sqoop codegen --connect jdbc:mysql://mysqldb.edu.cloudlab.com/sq121039 --username=labuser --password=edureka --table employee\n",
    "\n",
    "$ cat /tmp/sqoop-edureka_121039/compile/3d27090393f130028a9a3908ee8c090e/employee.java\n",
    "$ ls /tmp/sqoop-edureka_121039/compile/3d27090393f130028a9a3908ee8c090e/employee.jar</code>"
   ]
  },
  {
   "cell_type": "markdown",
   "metadata": {
    "collapsed": true
   },
   "source": [
    "# Export\n",
    "\n",
    "<code>$ mysql> CREATE TABLE emp LIKE employee; -- creates a new empty table emp with same structure as employee\n",
    "$ mysql> insert into emp select * from employee where id<7;\n",
    "$ mysql> quit;\n",
    "$ sqoop import-all-tables --connect jdbc:mysql://mysqldb.edu.cloudlab.com/sq121039 --username=labuser --password=edureka\n",
    "$ sqoop export --connect jdbc:mysql://mysqldb.edu.cloudlab.com/sq121039 --username=labuser --password=edureka --table emp --export-dir /user/edureka_121039/sq121039_employees -m 1\n",
    "</code>\n",
    "\n",
    "### Verify export\n",
    "<code>$ mysql -h mysqldb.edu.cloudlab.com -u labuser --password=edureka\n",
    "$ mysql> use sq121039;\n",
    "$ mysql> select * from emp;\n",
    "</code>\n",
    "\n",
    "sqoop export --connect jdbc:mysql://mysqldb.edu.cloudlab.com/sq121039 --username=labuser --password=edureka --table emp --export-dir /user/edureka_121039/sq121039_employees"
   ]
  },
  {
   "cell_type": "code",
   "execution_count": null,
   "metadata": {
    "collapsed": true
   },
   "outputs": [],
   "source": [
    "insert into employee values(3, 'Donald', 70, 13000); \n",
    "insert into employee values(4, 'Modi', 65, 9000); \n",
    "insert into employee values(5, 'Sundar', 50, 25000); \n",
    "insert into employee values(6, 'Jeff', 40, 30000); \n",
    "insert into employee values(7, 'Sergey', 45, 75000); \n",
    "insert into employee values(8, 'Larry', 45, 75000); \n",
    "insert into employee values(9, 'Xi', 50, 60000);"
   ]
  }
 ],
 "metadata": {
  "kernelspec": {
   "display_name": "Python 3",
   "language": "python",
   "name": "python3"
  },
  "language_info": {
   "codemirror_mode": {
    "name": "ipython",
    "version": 3
   },
   "file_extension": ".py",
   "mimetype": "text/x-python",
   "name": "python",
   "nbconvert_exporter": "python",
   "pygments_lexer": "ipython3",
   "version": "3.6.3"
  }
 },
 "nbformat": 4,
 "nbformat_minor": 2
}
