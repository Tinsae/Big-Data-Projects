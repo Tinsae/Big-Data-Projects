{
 "cells": [
  {
   "cell_type": "code",
   "execution_count": 11,
   "metadata": {},
   "outputs": [
    {
     "name": "stdout",
     "output_type": "stream",
     "text": [
      "----> Iteration took: 1.19209289551e-05 ms\n",
      "----> Iteration took: 5.96046447754e-06 ms\n",
      "----> Iteration took: 6.91413879395e-06 ms\n",
      "----> Iteration took: 8.10623168945e-06 ms\n",
      "----> Iteration took: 4.05311584473e-06 ms\n",
      "----> Iteration took: 6.91413879395e-06 ms\n",
      "----> Iteration took: 5.96046447754e-06 ms\n",
      "----> Iteration took: 8.10623168945e-06 ms\n",
      "----> Iteration took: 5.00679016113e-06 ms\n",
      "----> Iteration took: 4.05311584473e-06 ms\n"
     ]
    }
   ],
   "source": [
    "from __future__ import print_function\n",
    "import sys,time\n",
    "from pyspark.sql import SparkSession\n",
    "\n",
    "spark = SparkSession.builder.appName(\"HdfsTest_py_TGA2\").getOrCreate()\n",
    "file_ = spark.read.text(\"use_cases/input_sort_py.txt\").rdd\n",
    "\n",
    "mapped = file_.map(lambda s:len(s)).cache()\n",
    "for i in range(10):\n",
    "    start_time = time.time()\n",
    "    result = mapped.map(lambda x: x+2)\n",
    "    end_time = time.time()\n",
    "    print('----> Iteration took:', end_time - start_time,'ms')\n",
    "spark.stop()"
   ]
  },
  {
   "cell_type": "code",
   "execution_count": null,
   "metadata": {
    "collapsed": true
   },
   "outputs": [],
   "source": []
  }
 ],
 "metadata": {
  "kernelspec": {
   "display_name": "PySpark",
   "language": "python",
   "name": "pyspark"
  },
  "language_info": {
   "codemirror_mode": {
    "name": "ipython",
    "version": 2
   },
   "file_extension": ".py",
   "mimetype": "text/x-python",
   "name": "python",
   "nbconvert_exporter": "python",
   "pygments_lexer": "ipython2",
   "version": "2.7.14"
  }
 },
 "nbformat": 4,
 "nbformat_minor": 2
}
