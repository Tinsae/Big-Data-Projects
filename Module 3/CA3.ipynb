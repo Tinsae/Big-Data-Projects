{
 "cells": [
  {
   "cell_type": "code",
   "execution_count": 1,
   "metadata": {},
   "outputs": [],
   "source": [
    "# 1. Read FairDealCustomerData.csv\n",
    "import csv,sys,re,random\n",
    "with open('datasets/FairDealCustomerData.csv', newline='') as csvfile:\n",
    "    reader = csv.reader(csvfile)\n",
    "    cdata = []\n",
    "    for row in reader:\n",
    "        lname = row[0].strip()\n",
    "        namelist = re.split(r'(\\s)', row[1].strip())\n",
    "        blacklisted = int(row[2])\n",
    "        # remove space\n",
    "        namelist = [s for s in namelist if s != ' ']\n",
    "        title = namelist[0]\n",
    "        fname = namelist[1]\n",
    "        cdata.append((title, fname, lname, blacklisted))    "
   ]
  },
  {
   "cell_type": "code",
   "execution_count": 2,
   "metadata": {},
   "outputs": [
    {
     "name": "stdout",
     "output_type": "stream",
     "text": [
      "532  customer objects\n"
     ]
    }
   ],
   "source": [
    "# 4. Create Custom Exception – CustomerNotAllowedException\n",
    "class Error(Exception):\n",
    "   \"\"\"Base class for other exceptions\"\"\"\n",
    "   pass\n",
    "class CustomerNotAllowedException(Error):\n",
    "   \"\"\"Raised when customer is blacklisted\"\"\"\n",
    "# 3. Store the data in Customer Class\n",
    "class Customer:\n",
    "\n",
    "    def __init__(self, title, fname, lname, blacklisted):\n",
    "        # private\n",
    "        self.__title = title\n",
    "        self.__fname = fname\n",
    "        self.__lname = lname\n",
    "        self.__blacklisted = blacklisted\n",
    "\n",
    "    def __str__(self):\n",
    "        return \"{:10s} {:18s} {:18s} {:5d}\".format(self.__title, self.__fname, self.__lname, self.__blacklisted)\n",
    "\n",
    "    def setIsblacklisted(self, blacklisted):\n",
    "        self.__blacklisted = blacklisted\n",
    "\n",
    "    def isblacklisted(self):\n",
    "        return self.__blacklisted\n",
    "\n",
    "    def setTitle(self,title):\n",
    "        self.__title = title\n",
    "\n",
    "    def getTitle(self):\n",
    "        return self.__title\n",
    "\n",
    "    def setFname(self,fname):\n",
    "        self.__fname = fname\n",
    "\n",
    "    def getFname(self):\n",
    "        return self.__fname\n",
    "\n",
    "    def setLname(self,lname):\n",
    "        self.__lname = lname\n",
    "\n",
    "    def getLname(self):\n",
    "        return self.__lname\n",
    "    # Change function createOrder to take productname and product code as input\n",
    "    def createOrder(self, pname, pcode):\n",
    "        try:\n",
    "            if (self.isblacklisted()):\n",
    "                raise CustomerNotAllowedException\n",
    "            # Return object of type Order in case customer is eligible\n",
    "            else:\n",
    "                print(\"product ordered\")\n",
    "                return Order(pname, pcode)\n",
    "        except CustomerNotAllowedException:\n",
    "            print(\"Customer is blacklisted and cannot order\")\n",
    "\n",
    "class Order:\n",
    "    def __init__(self, name, code):\n",
    "        self.__name = name\n",
    "        self.__code = code\n",
    "    \n",
    "    def getName():\n",
    "        return __name\n",
    "    def setName(name):\n",
    "        self.__name = name\n",
    "    def getCode():\n",
    "        return __code\n",
    "    def setCode(code):\n",
    "        self.__code = code\n",
    "       \n",
    "customers = []\n",
    "for title, fname, lname, blacklisted in cdata:\n",
    "    customers.append(Customer(title, fname, lname, blacklisted))\n",
    "print(len(customers), \" customer objects\")    "
   ]
  },
  {
   "cell_type": "code",
   "execution_count": 3,
   "metadata": {},
   "outputs": [
    {
     "name": "stdout",
     "output_type": "stream",
     "text": [
      "[83, 523, 332, 333, 265, 396, 310, 497, 413, 480]\n",
      "10 randomly selected customers- blacklisted ?\n",
      "0,0,0,0,0,0,0,1,1,0,"
     ]
    }
   ],
   "source": [
    "indices = random.choices(range(532), k=10)\n",
    "print(indices)\n",
    "# check how many of them are blacklisted\n",
    "print(\"10 randomly selected customers- blacklisted ?\")\n",
    "for i in indices:\n",
    "    print(customers[i].isblacklisted(), end=\",\")"
   ]
  },
  {
   "cell_type": "code",
   "execution_count": 4,
   "metadata": {},
   "outputs": [
    {
     "name": "stdout",
     "output_type": "stream",
     "text": [
      "product ordered\n",
      "product ordered\n",
      "product ordered\n",
      "product ordered\n",
      "product ordered\n",
      "product ordered\n",
      "product ordered\n",
      "Customer is blacklisted and cannot order\n",
      "Customer is blacklisted and cannot order\n",
      "product ordered\n"
     ]
    }
   ],
   "source": [
    "# call create order on each customer\n",
    "# suppose all 10 customers ordered the same product\n",
    "for i in indices:\n",
    "    customers[i].createOrder(\"p-9777\", \"ergonomic_chair\")"
   ]
  }
 ],
 "metadata": {
  "kernelspec": {
   "display_name": "Python 3",
   "language": "python",
   "name": "python3"
  },
  "language_info": {
   "codemirror_mode": {
    "name": "ipython",
    "version": 3
   },
   "file_extension": ".py",
   "mimetype": "text/x-python",
   "name": "python",
   "nbconvert_exporter": "python",
   "pygments_lexer": "ipython3",
   "version": "3.7.1"
  }
 },
 "nbformat": 4,
 "nbformat_minor": 2
}
