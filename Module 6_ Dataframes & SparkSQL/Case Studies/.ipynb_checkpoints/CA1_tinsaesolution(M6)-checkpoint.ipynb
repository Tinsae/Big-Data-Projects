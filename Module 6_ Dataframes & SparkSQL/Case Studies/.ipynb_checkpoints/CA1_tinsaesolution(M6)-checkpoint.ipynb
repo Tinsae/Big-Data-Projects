{
 "cells": [
  {
   "cell_type": "code",
   "execution_count": 1,
   "metadata": {
    "collapsed": true
   },
   "outputs": [],
   "source": [
    "import sys\n",
    "import os\n",
    "import random\n",
    "from operator import add, mul\n",
    "from pyspark import SparkContext, SparkConf\n",
    "from pyspark import SparkFiles\n",
    "from pyspark.sql import SparkSession, SQLContext\n",
    "from pyspark.sql.types import Row"
   ]
  },
  {
   "cell_type": "code",
   "execution_count": 2,
   "metadata": {
    "collapsed": true
   },
   "outputs": [],
   "source": [
    "spark = SparkSession.builder.appName(\"M6-CA1-Instacart-TGA\").getOrCreate() # singleton instance"
   ]
  },
  {
   "cell_type": "markdown",
   "metadata": {},
   "source": [
    "### 1.Load data into Spark DataFrame\n"
   ]
  },
  {
   "cell_type": "code",
   "execution_count": 3,
   "metadata": {},
   "outputs": [],
   "source": [
    "# hdfs dfs -put orders.csv /user/edureka_672184/use_cases/instacart_csv/\n",
    "print(\"\\n1. Load Data into Spark DataFrame\\n\")\n",
    "aisles_df = spark.read.csv(\"/user/edureka_672184/use_cases/instacart_csv/aisles.csv\", header=True)\n",
    "department_df = spark.read.csv(\"/user/edureka_672184/use_cases/instacart_csv/departments.csv\", header=True)\n",
    "products_df = spark.read.csv(\"/user/edureka_672184/use_cases/instacart_csv/products.csv\", header=True)\n",
    "orders_df = spark.read.csv(\"/user/edureka_672184/use_cases/instacart_csv/orders.csv\", header=True)\n",
    "orders_products_prior_df = spark.read.csv(\"/user/edureka_672184/use_cases/instacart_csv/order_products__prior.csv\", header=True)\n",
    "orders_products_train_df = spark.read.csv(\"/user/edureka_672184/use_cases/instacart_csv/order_products__train.csv\", header=True)\n",
    "#sample_submission_df = spark.read.csv(\"/user/edureka_672184/use_cases/instacart_csv/sample_submission.csv\", header=True)"
   ]
  },
  {
   "cell_type": "code",
   "execution_count": 4,
   "metadata": {},
   "outputs": [
    {
     "name": "stdout",
     "output_type": "stream",
     "text": [
      "+--------+-------+--------+------------+---------+-----------------+----------------------+\n",
      "|order_id|user_id|eval_set|order_number|order_dow|order_hour_of_day|days_since_prior_order|\n",
      "+--------+-------+--------+------------+---------+-----------------+----------------------+\n",
      "| 2539329|      1|   prior|           1|        2|               08|                  null|\n",
      "| 2398795|      1|   prior|           2|        3|               07|                  15.0|\n",
      "|  473747|      1|   prior|           3|        3|               12|                  21.0|\n",
      "| 2254736|      1|   prior|           4|        4|               07|                  29.0|\n",
      "|  431534|      1|   prior|           5|        4|               15|                  28.0|\n",
      "| 3367565|      1|   prior|           6|        2|               07|                  19.0|\n",
      "|  550135|      1|   prior|           7|        1|               09|                  20.0|\n",
      "| 3108588|      1|   prior|           8|        1|               14|                  14.0|\n",
      "| 2295261|      1|   prior|           9|        1|               16|                   0.0|\n",
      "| 2550362|      1|   prior|          10|        4|               08|                  30.0|\n",
      "| 1187899|      1|   train|          11|        4|               08|                  14.0|\n",
      "| 2168274|      2|   prior|           1|        2|               11|                  null|\n",
      "| 1501582|      2|   prior|           2|        5|               10|                  10.0|\n",
      "| 1901567|      2|   prior|           3|        1|               10|                   3.0|\n",
      "|  738281|      2|   prior|           4|        2|               10|                   8.0|\n",
      "| 1673511|      2|   prior|           5|        3|               11|                   8.0|\n",
      "| 1199898|      2|   prior|           6|        2|               09|                  13.0|\n",
      "| 3194192|      2|   prior|           7|        2|               12|                  14.0|\n",
      "|  788338|      2|   prior|           8|        1|               15|                  27.0|\n",
      "| 1718559|      2|   prior|           9|        2|               09|                   8.0|\n",
      "+--------+-------+--------+------------+---------+-----------------+----------------------+\n",
      "only showing top 20 rows\n",
      "\n"
     ]
    }
   ],
   "source": [
    "print(\"Showing products\")\n",
    "print(products_df.show(5))\n",
    "print(\"Showing orders\")\n",
    "print(orders_df.show(5))\n",
    "print(\"orders products train\")\n",
    "print(orders_products_train_df.show(5))"
   ]
  },
  {
   "cell_type": "markdown",
   "metadata": {},
   "source": [
    "### 2.Merge all the data frames based on the common key and create a single DataFrame \n"
   ]
  },
  {
   "cell_type": "code",
   "execution_count": 5,
   "metadata": {},
   "outputs": [],
   "source": [
    "print(\"\\n2. Merge all the data frames\\n\")\n",
    "prod_dept_aisle = aisles_df \\\n",
    ".join(products_df, on=\"aisle_id\", how='inner') \\\n",
    ".join(department_df, on=\"department_id\", how='inner')"
   ]
  },
  {
   "cell_type": "code",
   "execution_count": 6,
   "metadata": {},
   "outputs": [
    {
     "name": "stdout",
     "output_type": "stream",
     "text": [
      "+-------------+--------+--------------------+----------+--------------------+----------+\n",
      "|department_id|aisle_id|               aisle|product_id|        product_name|department|\n",
      "+-------------+--------+--------------------+----------+--------------------+----------+\n",
      "|           20|       1|prepared soups sa...|     49445|   Baked Potato Soup|      deli|\n",
      "|           20|       1|prepared soups sa...|     49056|Organic Blend Me ...|      deli|\n",
      "|           20|       1|prepared soups sa...|     48556|    Red Potato Salad|      deli|\n",
      "|           20|       1|prepared soups sa...|     48474| Deli Fresh Coleslaw|      deli|\n",
      "|           20|       1|prepared soups sa...|     47979|Butternut Squash ...|      deli|\n",
      "+-------------+--------+--------------------+----------+--------------------+----------+\n",
      "only showing top 5 rows\n",
      "\n"
     ]
    }
   ],
   "source": [
    "print(\"products, Department and Aisle combined\")\n",
    "print(prod_dept_aisle.show(5))"
   ]
  },
  {
   "cell_type": "code",
   "execution_count": 9,
   "metadata": {},
   "outputs": [],
   "source": [
    "print(\"products, Department and Aisle and other tables combined\")\n",
    "\n",
    "prod_order_prior = orders_df.join(orders_products_prior_df, on=\"order_id\", how='inner')\n",
    "prod_order_train = orders_df.join(orders_products_train_df, on=\"order_id\", how='inner')\n",
    "prod_order = prod_order_prior.union(prod_order_train)"
   ]
  },
  {
   "cell_type": "code",
   "execution_count": 10,
   "metadata": {
    "collapsed": true
   },
   "outputs": [],
   "source": [
    "instacart_full_df = prod_dept_aisle.join(prod_order, on=\"product_id\", how=\"inner\")"
   ]
  },
  {
   "cell_type": "code",
   "execution_count": 11,
   "metadata": {},
   "outputs": [
    {
     "name": "stdout",
     "output_type": "stream",
     "text": [
      "+----------+-------------+--------+--------------------+--------------------+----------+--------+-------+--------+------------+---------+-----------------+----------------------+-----------------+---------+\n",
      "|product_id|department_id|aisle_id|               aisle|        product_name|department|order_id|user_id|eval_set|order_number|order_dow|order_hour_of_day|days_since_prior_order|add_to_cart_order|reordered|\n",
      "+----------+-------------+--------+--------------------+--------------------+----------+--------+-------+--------+------------+---------+-----------------+----------------------+-----------------+---------+\n",
      "|     10096|            1|      58|frozen breads doughs|Corn Meal Pizza C...|    frozen| 1047552| 156272|   prior|          29|        3|               11|                   6.0|                3|        1|\n",
      "|     10096|            1|      58|frozen breads doughs|Corn Meal Pizza C...|    frozen| 1832904| 156059|   prior|          35|        1|               07|                   9.0|               15|        1|\n",
      "+----------+-------------+--------+--------------------+--------------------+----------+--------+-------+--------+------------+---------+-----------------+----------------------+-----------------+---------+\n",
      "only showing top 2 rows\n",
      "\n"
     ]
    }
   ],
   "source": [
    "print(\"Showing 2 rows from the complete dataframe\")\n",
    "instacart_full_df.show(2)"
   ]
  },
  {
   "cell_type": "code",
   "execution_count": 12,
   "metadata": {},
   "outputs": [
    {
     "data": {
      "text/plain": [
       "['product_id',\n",
       " 'department_id',\n",
       " 'aisle_id',\n",
       " 'aisle',\n",
       " 'product_name',\n",
       " 'department',\n",
       " 'order_id',\n",
       " 'user_id',\n",
       " 'eval_set',\n",
       " 'order_number',\n",
       " 'order_dow',\n",
       " 'order_hour_of_day',\n",
       " 'days_since_prior_order',\n",
       " 'add_to_cart_order',\n",
       " 'reordered']"
      ]
     },
     "execution_count": 12,
     "metadata": {},
     "output_type": "execute_result"
    }
   ],
   "source": [
    "print(\"showing columns of the complete dataframe\")\n",
    "print(instacart_full_df.columns)"
   ]
  },
  {
   "cell_type": "markdown",
   "metadata": {},
   "source": [
    "### 3.Check missing data\n"
   ]
  },
  {
   "cell_type": "code",
   "execution_count": 13,
   "metadata": {},
   "outputs": [
    {
     "name": "stdout",
     "output_type": "stream",
     "text": [
      "+----------+-------------+--------+-----+------------+----------+--------+-------+--------+------------+---------+-----------------+----------------------+-----------------+---------+\n",
      "|product_id|department_id|aisle_id|aisle|product_name|department|order_id|user_id|eval_set|order_number|order_dow|order_hour_of_day|days_since_prior_order|add_to_cart_order|reordered|\n",
      "+----------+-------------+--------+-----+------------+----------+--------+-------+--------+------------+---------+-----------------+----------------------+-----------------+---------+\n",
      "|         0|            0|       0|    0|           0|         0|       0|      0|       0|           0|        0|                0|               2078068|                0|        0|\n",
      "+----------+-------------+--------+-----+------------+----------+--------+-------+--------+------------+---------+-----------------+----------------------+-----------------+---------+\n",
      "\n"
     ]
    }
   ],
   "source": [
    "# showing nulls\n",
    "print(\"\\n3. Check missing data\\n\")\n",
    "\n",
    "print(\"Showing nulls per column \")\n",
    "print(instacart_full_df.select(*(sum(col(c).isNull().cast(\"int\")).alias(c) for c in instacart_full_df.columns)).show())"
   ]
  },
  {
   "cell_type": "markdown",
   "metadata": {},
   "source": [
    "Days since prior order has 2 million nulls. Other columns are good."
   ]
  },
  {
   "cell_type": "code",
   "execution_count": 14,
   "metadata": {},
   "outputs": [
    {
     "data": {
      "text/plain": [
       "33819103"
      ]
     },
     "execution_count": 14,
     "metadata": {},
     "output_type": "execute_result"
    }
   ],
   "source": [
    "print(\"Days since prior order has 2 million nulls. Other columns are good.\")\n",
    "print(\"Size of full data is: \", instacart_full_df.count())"
   ]
  },
  {
   "cell_type": "markdown",
   "metadata": {},
   "source": [
    "### 4.List the most ordered products (top 10)\n"
   ]
  },
  {
   "cell_type": "code",
   "execution_count": 18,
   "metadata": {},
   "outputs": [
    {
     "name": "stdout",
     "output_type": "stream",
     "text": [
      "\n",
      "4. List the most ordered products (top 10) \n",
      "\n",
      "+----------+----------------------+------+\n",
      "|product_id|product_name          |count |\n",
      "+----------+----------------------+------+\n",
      "|24852     |Banana                |491291|\n",
      "|13176     |Bag of Organic Bananas|394930|\n",
      "|21137     |Organic Strawberries  |275577|\n",
      "|21903     |Organic Baby Spinach  |251705|\n",
      "|47209     |Organic Hass Avocado  |220877|\n",
      "|47766     |Organic Avocado       |184224|\n",
      "|47626     |Large Lemon           |160792|\n",
      "|16797     |Strawberries          |149445|\n",
      "|26209     |Limes                 |146660|\n",
      "|27845     |Organic Whole Milk    |142813|\n",
      "+----------+----------------------+------+\n",
      "only showing top 10 rows\n",
      "\n",
      "None\n"
     ]
    }
   ],
   "source": [
    "print(\"\\n4. List the most ordered products (top 10) \\n\")\n",
    "print(instacart_full_df.groupBy([\"product_id\", \"product_name\"]).count().orderBy('count', ascending=False).show(10, False))"
   ]
  },
  {
   "cell_type": "markdown",
   "metadata": {},
   "source": [
    "### 5.Do people usually reorder the same previous ordered products?\n"
   ]
  },
  {
   "cell_type": "code",
   "execution_count": 20,
   "metadata": {},
   "outputs": [
    {
     "name": "stdout",
     "output_type": "stream",
     "text": [
      "\n",
      "5. Do people usually reorder the same previous ordered products? \n",
      "\n",
      "+---------+--------+\n",
      "|reordered|   count|\n",
      "+---------+--------+\n",
      "|        1|19955360|\n",
      "|        0|13863743|\n",
      "+---------+--------+\n",
      "\n",
      "None\n"
     ]
    }
   ],
   "source": [
    "print(\"\\n5. Do people usually reorder the same previous ordered products? \\n\")\n",
    "print(instacart_full_df.groupBy(\"reordered\").count().orderBy('count', ascending=False).show())"
   ]
  },
  {
   "cell_type": "markdown",
   "metadata": {},
   "source": [
    "### 6.List most reordered products\n"
   ]
  },
  {
   "cell_type": "code",
   "execution_count": null,
   "metadata": {},
   "outputs": [
    {
     "name": "stdout",
     "output_type": "stream",
     "text": [
      "\n",
      "6. List most reordered products \n",
      "\n"
     ]
    }
   ],
   "source": [
    "print(\"\\n6. List most reordered products \\n\")\n",
    "print(instacart_full_df.filter(col(\"reordered\") == 1). \\\n",
    "      groupBy([\"product_id\", \"product_name\"]). \\\n",
    "      count().orderBy('count', ascending=False). \\\n",
    "      show(10, False))"
   ]
  },
  {
   "cell_type": "markdown",
   "metadata": {},
   "source": [
    "### 7.Most important department and aisle (by number of products)\n"
   ]
  },
  {
   "cell_type": "code",
   "execution_count": null,
   "metadata": {
    "collapsed": true
   },
   "outputs": [],
   "source": []
  },
  {
   "cell_type": "markdown",
   "metadata": {},
   "source": [
    "### 8.Get the Top 10 departments\n"
   ]
  },
  {
   "cell_type": "code",
   "execution_count": null,
   "metadata": {
    "collapsed": true
   },
   "outputs": [],
   "source": []
  },
  {
   "cell_type": "markdown",
   "metadata": {},
   "source": [
    "### 9.List top 10 products ordered in the morning (6 AM to 11 AM)\n"
   ]
  },
  {
   "cell_type": "code",
   "execution_count": null,
   "metadata": {
    "collapsed": true
   },
   "outputs": [],
   "source": []
  },
  {
   "cell_type": "markdown",
   "metadata": {},
   "source": [
    "### 10.Create a spark-submit application for the same and print the findings inthelog"
   ]
  },
  {
   "cell_type": "code",
   "execution_count": null,
   "metadata": {
    "collapsed": true
   },
   "outputs": [],
   "source": [
    "# Load input.csv into HDFS\n",
    "# !hdfs dfs -mkdir use_cases/Logs \n",
    "# !hdfs dfs -put access.clean.log  use_cases/Logs"
   ]
  }
 ],
 "metadata": {
  "kernelspec": {
   "display_name": "PySpark",
   "language": "python",
   "name": "pyspark"
  },
  "language_info": {
   "codemirror_mode": {
    "name": "ipython",
    "version": 2
   },
   "file_extension": ".py",
   "mimetype": "text/x-python",
   "name": "python",
   "nbconvert_exporter": "python",
   "pygments_lexer": "ipython2",
   "version": "2.7.14"
  }
 },
 "nbformat": 4,
 "nbformat_minor": 2
}
