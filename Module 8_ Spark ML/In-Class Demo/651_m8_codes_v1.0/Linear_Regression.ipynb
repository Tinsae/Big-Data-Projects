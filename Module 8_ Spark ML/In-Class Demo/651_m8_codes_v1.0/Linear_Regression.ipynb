{
 "cells": [
  {
   "cell_type": "code",
   "execution_count": 1,
   "metadata": {
    "collapsed": true
   },
   "outputs": [],
   "source": [
    "from pyspark import SparkConf, SparkContext\n",
    "from pyspark.sql import SQLContext\n",
    "spark = SparkSession.builder.appName(\"Spark MLIB- Linear Regression\").getOrCreate()\n",
    "sparkContext = spark.sparkContext\n",
    "sqlContext = SQLContext(sparkContext)"
   ]
  },
  {
   "cell_type": "code",
   "execution_count": 2,
   "metadata": {},
   "outputs": [
    {
     "data": {
      "text/plain": [
       "[Row(CRIM=0.00632, ZN=18.0, INDUS=2.309999943, CHAS=0, NOX=0.537999988, RM=6.574999809, AGE=65.19999695, DIS=4.090000153, RAD=1, TAX=296, PT=15.30000019, B=396.8999939, LSTAT=4.980000019, MV=24.0)]"
      ]
     },
     "execution_count": 2,
     "metadata": {},
     "output_type": "execute_result"
    }
   ],
   "source": [
    "house_df = sqlContext.read.format('csv').options(header='true', inferschema='true').load('hdfs://nameservice1/user/edureka_672184/m8_datasets/boston.csv')\n",
    "house_df.take(1)"
   ]
  },
  {
   "cell_type": "code",
   "execution_count": 3,
   "metadata": {},
   "outputs": [
    {
     "name": "stdout",
     "output_type": "stream",
     "text": [
      "root\n",
      " |-- CRIM: double (nullable = true)\n",
      " |-- ZN: double (nullable = true)\n",
      " |-- INDUS: double (nullable = true)\n",
      " |-- CHAS: integer (nullable = true)\n",
      " |-- NOX: double (nullable = true)\n",
      " |-- RM: double (nullable = true)\n",
      " |-- AGE: double (nullable = true)\n",
      " |-- DIS: double (nullable = true)\n",
      " |-- RAD: integer (nullable = true)\n",
      " |-- TAX: integer (nullable = true)\n",
      " |-- PT: double (nullable = true)\n",
      " |-- B: double (nullable = true)\n",
      " |-- LSTAT: double (nullable = true)\n",
      " |-- MV: double (nullable = true)\n",
      "\n"
     ]
    }
   ],
   "source": [
    "house_df.cache()\n",
    "house_df.printSchema()"
   ]
  },
  {
   "cell_type": "code",
   "execution_count": 4,
   "metadata": {},
   "outputs": [
    {
     "data": {
      "text/html": [
       "<div>\n",
       "<style scoped>\n",
       "    .dataframe tbody tr th:only-of-type {\n",
       "        vertical-align: middle;\n",
       "    }\n",
       "\n",
       "    .dataframe tbody tr th {\n",
       "        vertical-align: top;\n",
       "    }\n",
       "\n",
       "    .dataframe thead th {\n",
       "        text-align: right;\n",
       "    }\n",
       "</style>\n",
       "<table border=\"1\" class=\"dataframe\">\n",
       "  <thead>\n",
       "    <tr style=\"text-align: right;\">\n",
       "      <th></th>\n",
       "      <th>0</th>\n",
       "      <th>1</th>\n",
       "      <th>2</th>\n",
       "      <th>3</th>\n",
       "      <th>4</th>\n",
       "    </tr>\n",
       "  </thead>\n",
       "  <tbody>\n",
       "    <tr>\n",
       "      <th>summary</th>\n",
       "      <td>count</td>\n",
       "      <td>mean</td>\n",
       "      <td>stddev</td>\n",
       "      <td>min</td>\n",
       "      <td>max</td>\n",
       "    </tr>\n",
       "    <tr>\n",
       "      <th>CRIM</th>\n",
       "      <td>506</td>\n",
       "      <td>3.6135235608162057</td>\n",
       "      <td>8.601545086715594</td>\n",
       "      <td>0.00632</td>\n",
       "      <td>88.97619629</td>\n",
       "    </tr>\n",
       "    <tr>\n",
       "      <th>ZN</th>\n",
       "      <td>506</td>\n",
       "      <td>11.363636363636363</td>\n",
       "      <td>23.32245299451514</td>\n",
       "      <td>0.0</td>\n",
       "      <td>100.0</td>\n",
       "    </tr>\n",
       "    <tr>\n",
       "      <th>INDUS</th>\n",
       "      <td>506</td>\n",
       "      <td>11.136778749531626</td>\n",
       "      <td>6.86035298095724</td>\n",
       "      <td>0.460000008</td>\n",
       "      <td>27.73999977</td>\n",
       "    </tr>\n",
       "    <tr>\n",
       "      <th>CHAS</th>\n",
       "      <td>506</td>\n",
       "      <td>0.0691699604743083</td>\n",
       "      <td>0.2539940413404101</td>\n",
       "      <td>0</td>\n",
       "      <td>1</td>\n",
       "    </tr>\n",
       "    <tr>\n",
       "      <th>NOX</th>\n",
       "      <td>506</td>\n",
       "      <td>0.5546950602312246</td>\n",
       "      <td>0.1158776754570543</td>\n",
       "      <td>0.38499999</td>\n",
       "      <td>0.870999992</td>\n",
       "    </tr>\n",
       "    <tr>\n",
       "      <th>RM</th>\n",
       "      <td>506</td>\n",
       "      <td>6.28463438896641</td>\n",
       "      <td>0.7026171549511354</td>\n",
       "      <td>3.561000109</td>\n",
       "      <td>8.779999733</td>\n",
       "    </tr>\n",
       "    <tr>\n",
       "      <th>AGE</th>\n",
       "      <td>506</td>\n",
       "      <td>68.57490120115612</td>\n",
       "      <td>28.148861532793276</td>\n",
       "      <td>2.900000095</td>\n",
       "      <td>100.0</td>\n",
       "    </tr>\n",
       "    <tr>\n",
       "      <th>DIS</th>\n",
       "      <td>506</td>\n",
       "      <td>3.7950426960059325</td>\n",
       "      <td>2.105710142043288</td>\n",
       "      <td>1.129600048</td>\n",
       "      <td>12.12650013</td>\n",
       "    </tr>\n",
       "    <tr>\n",
       "      <th>RAD</th>\n",
       "      <td>506</td>\n",
       "      <td>9.549407114624506</td>\n",
       "      <td>8.707259384239366</td>\n",
       "      <td>1</td>\n",
       "      <td>24</td>\n",
       "    </tr>\n",
       "    <tr>\n",
       "      <th>TAX</th>\n",
       "      <td>506</td>\n",
       "      <td>408.2371541501976</td>\n",
       "      <td>168.53711605495903</td>\n",
       "      <td>187</td>\n",
       "      <td>711</td>\n",
       "    </tr>\n",
       "    <tr>\n",
       "      <th>PT</th>\n",
       "      <td>506</td>\n",
       "      <td>18.45553382776679</td>\n",
       "      <td>2.164945780039869</td>\n",
       "      <td>12.60000038</td>\n",
       "      <td>22.0</td>\n",
       "    </tr>\n",
       "    <tr>\n",
       "      <th>B</th>\n",
       "      <td>506</td>\n",
       "      <td>356.67402960597883</td>\n",
       "      <td>91.29486340272308</td>\n",
       "      <td>0.319999993</td>\n",
       "      <td>396.8999939</td>\n",
       "    </tr>\n",
       "    <tr>\n",
       "      <th>LSTAT</th>\n",
       "      <td>506</td>\n",
       "      <td>12.653063233922925</td>\n",
       "      <td>7.141061500195388</td>\n",
       "      <td>1.730000019</td>\n",
       "      <td>37.97000122</td>\n",
       "    </tr>\n",
       "    <tr>\n",
       "      <th>MV</th>\n",
       "      <td>506</td>\n",
       "      <td>22.53280636250988</td>\n",
       "      <td>9.197104107945272</td>\n",
       "      <td>5.0</td>\n",
       "      <td>50.0</td>\n",
       "    </tr>\n",
       "  </tbody>\n",
       "</table>\n",
       "</div>"
      ],
      "text/plain": [
       "             0                   1                   2            3  \\\n",
       "summary  count                mean              stddev          min   \n",
       "CRIM       506  3.6135235608162057   8.601545086715594      0.00632   \n",
       "ZN         506  11.363636363636363   23.32245299451514          0.0   \n",
       "INDUS      506  11.136778749531626    6.86035298095724  0.460000008   \n",
       "CHAS       506  0.0691699604743083  0.2539940413404101            0   \n",
       "NOX        506  0.5546950602312246  0.1158776754570543   0.38499999   \n",
       "RM         506    6.28463438896641  0.7026171549511354  3.561000109   \n",
       "AGE        506   68.57490120115612  28.148861532793276  2.900000095   \n",
       "DIS        506  3.7950426960059325   2.105710142043288  1.129600048   \n",
       "RAD        506   9.549407114624506   8.707259384239366            1   \n",
       "TAX        506   408.2371541501976  168.53711605495903          187   \n",
       "PT         506   18.45553382776679   2.164945780039869  12.60000038   \n",
       "B          506  356.67402960597883   91.29486340272308  0.319999993   \n",
       "LSTAT      506  12.653063233922925   7.141061500195388  1.730000019   \n",
       "MV         506   22.53280636250988   9.197104107945272          5.0   \n",
       "\n",
       "                   4  \n",
       "summary          max  \n",
       "CRIM     88.97619629  \n",
       "ZN             100.0  \n",
       "INDUS    27.73999977  \n",
       "CHAS               1  \n",
       "NOX      0.870999992  \n",
       "RM       8.779999733  \n",
       "AGE            100.0  \n",
       "DIS      12.12650013  \n",
       "RAD               24  \n",
       "TAX              711  \n",
       "PT              22.0  \n",
       "B        396.8999939  \n",
       "LSTAT    37.97000122  \n",
       "MV              50.0  "
      ]
     },
     "execution_count": 4,
     "metadata": {},
     "output_type": "execute_result"
    }
   ],
   "source": [
    "house_df.describe().toPandas().transpose()"
   ]
  },
  {
   "cell_type": "code",
   "execution_count": 5,
   "metadata": {},
   "outputs": [
    {
     "data": {
      "text/plain": [
       "[('CRIM', 'double'),\n",
       " ('ZN', 'double'),\n",
       " ('INDUS', 'double'),\n",
       " ('CHAS', 'int'),\n",
       " ('NOX', 'double'),\n",
       " ('RM', 'double'),\n",
       " ('AGE', 'double'),\n",
       " ('DIS', 'double'),\n",
       " ('RAD', 'int'),\n",
       " ('TAX', 'int'),\n",
       " ('PT', 'double'),\n",
       " ('B', 'double'),\n",
       " ('LSTAT', 'double'),\n",
       " ('MV', 'double')]"
      ]
     },
     "execution_count": 5,
     "metadata": {},
     "output_type": "execute_result"
    }
   ],
   "source": [
    "import pandas as pd\n",
    "house_df.dtypes"
   ]
  },
  {
   "cell_type": "code",
   "execution_count": 6,
   "metadata": {
    "collapsed": true
   },
   "outputs": [],
   "source": [
    "### [('CRIM', 'double'),\n",
    "## ('ZN', 'double'),\n",
    "## ('INDUS', 'double'),...]\n",
    "numeric_features = [t[0] for t in house_df.dtypes if t[1] == 'int' or t[1] == 'double']\n",
    "sampled_data = house_df.select(numeric_features).sample(False, 0.8).toPandas()\n",
    "axs = pd.plotting.scatter_matrix(sampled_data, figsize=(10, 10))\n",
    "n = len(sampled_data.columns)\n",
    "for i in range(n):\n",
    "    v = axs[i, 0]\n",
    "    v.yaxis.label.set_rotation(0)\n",
    "    v.yaxis.label.set_ha('right')\n",
    "    v.set_yticks(())\n",
    "    h = axs[n-1, i]\n",
    "    h.xaxis.label.set_rotation(90)\n",
    "    h.set_xticks(())"
   ]
  },
  {
   "cell_type": "code",
   "execution_count": 7,
   "metadata": {},
   "outputs": [
    {
     "name": "stdout",
     "output_type": "stream",
     "text": [
      "('Correlation to MV for ', 'CRIM', -0.3883046116575088)\n",
      "('Correlation to MV for ', 'ZN', 0.36044534463752903)\n",
      "('Correlation to MV for ', 'INDUS', -0.48372517128143383)\n",
      "('Correlation to MV for ', 'CHAS', 0.17526017775291847)\n",
      "('Correlation to MV for ', 'NOX', -0.4273207763683772)\n",
      "('Correlation to MV for ', 'RM', 0.695359937127267)\n",
      "('Correlation to MV for ', 'AGE', -0.37695456714288667)\n",
      "('Correlation to MV for ', 'DIS', 0.24992873873512172)\n",
      "('Correlation to MV for ', 'RAD', -0.3816262315669168)\n",
      "('Correlation to MV for ', 'TAX', -0.46853593528654536)\n",
      "('Correlation to MV for ', 'PT', -0.5077867038116085)\n",
      "('Correlation to MV for ', 'B', 0.3334608226834164)\n",
      "('Correlation to MV for ', 'LSTAT', -0.7376627294671615)\n",
      "('Correlation to MV for ', 'MV', 1.0)\n"
     ]
    }
   ],
   "source": [
    "import six\n",
    "for i in house_df.columns:\n",
    "    if not( isinstance(house_df.select(i).take(1)[0][0], six.string_types)):\n",
    "        print( \"Correlation to MV for \", i, house_df.stat.corr('MV',i))"
   ]
  },
  {
   "cell_type": "code",
   "execution_count": 8,
   "metadata": {},
   "outputs": [
    {
     "name": "stdout",
     "output_type": "stream",
     "text": [
      "+--------------------+-----------+\n",
      "|            features|         MV|\n",
      "+--------------------+-----------+\n",
      "|[0.00632,18.0,2.3...|       24.0|\n",
      "|[0.027310001,0.0,...|21.60000038|\n",
      "|[0.02729,0.0,7.07...|34.70000076|\n",
      "+--------------------+-----------+\n",
      "only showing top 3 rows\n",
      "\n"
     ]
    }
   ],
   "source": [
    "from pyspark.ml.feature import VectorAssembler\n",
    "vectorAssembler = VectorAssembler(inputCols = ['CRIM', 'ZN', 'INDUS', 'CHAS', 'NOX', 'RM', 'AGE', 'DIS', 'RAD', 'TAX', 'PT', 'B', 'LSTAT'], outputCol = 'features')\n",
    "vhouse_df = vectorAssembler.transform(house_df)\n",
    "vhouse_df = vhouse_df.select(['features', 'MV'])\n",
    "vhouse_df.show(3)"
   ]
  },
  {
   "cell_type": "code",
   "execution_count": 9,
   "metadata": {
    "collapsed": true
   },
   "outputs": [],
   "source": [
    "splits = vhouse_df.randomSplit([0.7, 0.3])\n",
    "train_df = splits[0]\n",
    "test_df = splits[1]"
   ]
  },
  {
   "cell_type": "code",
   "execution_count": 10,
   "metadata": {},
   "outputs": [
    {
     "name": "stdout",
     "output_type": "stream",
     "text": [
      "Coefficients: [0.0,0.01084537748053102,-0.01763148650436992,2.7317158690087413,-4.200277462581627,3.7444371877737375,0.0,-0.6352353243088716,0.0,-6.043002652792997e-05,-0.8879217584739071,0.009336940898906165,-0.5700329987657504]\n",
      "Intercept: 24.1517315389\n"
     ]
    }
   ],
   "source": [
    "from pyspark.ml.regression import LinearRegression\n",
    "lr = LinearRegression(featuresCol = 'features', labelCol='MV', maxIter=10, regParam=0.3, elasticNetParam=0.8)\n",
    "lr_model = lr.fit(train_df)\n",
    "print(\"Coefficients: \" + str(lr_model.coefficients))\n",
    "print(\"Intercept: \" + str(lr_model.intercept))"
   ]
  },
  {
   "cell_type": "code",
   "execution_count": 11,
   "metadata": {},
   "outputs": [
    {
     "name": "stdout",
     "output_type": "stream",
     "text": [
      "RMSE: 5.157810\n",
      "r2: 0.706745\n"
     ]
    }
   ],
   "source": [
    "trainingSummary = lr_model.summary\n",
    "print(\"RMSE: %f\" % trainingSummary.rootMeanSquaredError)\n",
    "print(\"r2: %f\" % trainingSummary.r2)"
   ]
  },
  {
   "cell_type": "code",
   "execution_count": 15,
   "metadata": {},
   "outputs": [
    {
     "name": "stdout",
     "output_type": "stream",
     "text": [
      "+-------+-----------------+\n",
      "|summary|               MV|\n",
      "+-------+-----------------+\n",
      "|  count|              363|\n",
      "|   mean|22.57493118402479|\n",
      "| stddev|9.537648860974771|\n",
      "|    min|      5.599999905|\n",
      "|    max|             50.0|\n",
      "+-------+-----------------+\n",
      "\n"
     ]
    }
   ],
   "source": [
    "train_df.describe().show()"
   ]
  },
  {
   "cell_type": "code",
   "execution_count": 16,
   "metadata": {},
   "outputs": [
    {
     "name": "stdout",
     "output_type": "stream",
     "text": [
      "+------------------+-----------+--------------------+\n",
      "|        prediction|         MV|            features|\n",
      "+------------------+-----------+--------------------+\n",
      "|30.902346665788812|32.20000076|[0.00906,90.0,2.9...|\n",
      "|27.986420737632198|       22.0|[0.01096,55.0,2.2...|\n",
      "| 31.71432338607955|31.60000038|[0.01432,100.0,1....|\n",
      "|  27.8248357482449|       24.5|[0.01501,80.0,2.0...|\n",
      "|41.886642369061576|       50.0|[0.01501,90.0,1.2...|\n",
      "+------------------+-----------+--------------------+\n",
      "only showing top 5 rows\n",
      "\n",
      "R Squared (R2) on test data = 0.734553\n"
     ]
    }
   ],
   "source": [
    "lr_predictions = lr_model.transform(test_df)\n",
    "lr_predictions.select(\"prediction\",\"MV\",\"features\").show(5)\n",
    "from pyspark.ml.evaluation import RegressionEvaluator\n",
    "lr_evaluator = RegressionEvaluator(predictionCol=\"prediction\", \\\n",
    "                 labelCol=\"MV\",metricName=\"r2\")\n",
    "print(\"R Squared (R2) on test data = %g\" % lr_evaluator.evaluate(lr_predictions))"
   ]
  },
  {
   "cell_type": "code",
   "execution_count": 17,
   "metadata": {},
   "outputs": [
    {
     "name": "stdout",
     "output_type": "stream",
     "text": [
      "Root Mean Squared Error (RMSE) on test data = 4.26167\n"
     ]
    }
   ],
   "source": [
    "test_result = lr_model.evaluate(test_df)\n",
    "print(\"Root Mean Squared Error (RMSE) on test data = %g\" % test_result.rootMeanSquaredError)"
   ]
  },
  {
   "cell_type": "code",
   "execution_count": 18,
   "metadata": {},
   "outputs": [
    {
     "name": "stdout",
     "output_type": "stream",
     "text": [
      "numIterations: 11\n",
      "objectiveHistory: [0.5000000000000004, 0.43261186467009544, 0.23999247735467868, 0.2173075865456097, 0.18815020383169992, 0.18399187495468977, 0.18229286932403363, 0.18174725745143952, 0.18152726901060562, 0.18127258311163563, 0.18089082293741754]\n",
      "+-------------------+\n",
      "|          residuals|\n",
      "+-------------------+\n",
      "| -7.332008677003742|\n",
      "| 0.6330223115127751|\n",
      "|   5.31991036381627|\n",
      "| 1.8241379374316438|\n",
      "| 11.675464393076226|\n",
      "|-1.8967235241105058|\n",
      "|    9.0053610798915|\n",
      "| 3.3219600273286005|\n",
      "| 1.6491622510043626|\n",
      "|-3.1990019249339383|\n",
      "| -1.739661902261311|\n",
      "|  5.674831218091775|\n",
      "|  -10.5171181243686|\n",
      "| 3.3433839325287877|\n",
      "| -4.020999382533585|\n",
      "| 1.4537677378356086|\n",
      "| -2.153397870794734|\n",
      "|   0.67060561730937|\n",
      "| -1.620904624341776|\n",
      "| -3.030380618582072|\n",
      "+-------------------+\n",
      "only showing top 20 rows\n",
      "\n"
     ]
    }
   ],
   "source": [
    "print(\"numIterations: %d\" % trainingSummary.totalIterations)\n",
    "print(\"objectiveHistory: %s\" % str(trainingSummary.objectiveHistory))\n",
    "trainingSummary.residuals.show()"
   ]
  },
  {
   "cell_type": "code",
   "execution_count": 20,
   "metadata": {},
   "outputs": [
    {
     "name": "stdout",
     "output_type": "stream",
     "text": [
      "+------------------+-----------+--------------------+\n",
      "|        prediction|         MV|            features|\n",
      "+------------------+-----------+--------------------+\n",
      "|30.902346665788812|32.20000076|[0.00906,90.0,2.9...|\n",
      "|27.986420737632198|       22.0|[0.01096,55.0,2.2...|\n",
      "| 31.71432338607955|31.60000038|[0.01432,100.0,1....|\n",
      "|  27.8248357482449|       24.5|[0.01501,80.0,2.0...|\n",
      "|41.886642369061576|       50.0|[0.01501,90.0,1.2...|\n",
      "|25.865723635719483|       33.0|[0.019509999,17.5...|\n",
      "|20.569518270574232|20.10000038|[0.019649999,80.0...|\n",
      "| 39.15759107289478|       50.0|[0.020090001,95.0...|\n",
      "|31.515759104815615|31.10000038|[0.02187,60.0,2.9...|\n",
      "|28.043377930137126|23.89999962|[0.025429999,55.0...|\n",
      "|26.507824780885468|28.70000076|[0.029850001,0.0,...|\n",
      "|29.625675270711486|31.20000076|[0.03049,55.0,3.7...|\n",
      "|22.425945225972203|20.60000038|[0.033059999,0.0,...|\n",
      "|20.720155196313154|       19.5|[0.03427,0.0,5.19...|\n",
      "| 24.84416586933454|19.39999962|[0.03466,35.0,6.0...|\n",
      "|23.289942001320455|20.89999962|[0.03548,80.0,3.6...|\n",
      "|24.688027260954165|22.89999962|[0.03551,25.0,4.8...|\n",
      "|33.011932877769496|35.40000153|[0.037050001,20.0...|\n",
      "|21.890486047349686|21.10000038|[0.039609998,0.0,...|\n",
      "|26.152794495594655|24.79999924|[0.042970002,52.5...|\n",
      "+------------------+-----------+--------------------+\n",
      "only showing top 20 rows\n",
      "\n"
     ]
    }
   ],
   "source": [
    "predictions = lr_model.transform(test_df)\n",
    "predictions.select(\"prediction\",\"MV\",\"features\").show()"
   ]
  }
 ],
 "metadata": {
  "kernelspec": {
   "display_name": "PySpark",
   "language": "python",
   "name": "pyspark"
  },
  "language_info": {
   "codemirror_mode": {
    "name": "ipython",
    "version": 2
   },
   "file_extension": ".py",
   "mimetype": "text/x-python",
   "name": "python",
   "nbconvert_exporter": "python",
   "pygments_lexer": "ipython2",
   "version": "2.7.14"
  }
 },
 "nbformat": 4,
 "nbformat_minor": 2
}
