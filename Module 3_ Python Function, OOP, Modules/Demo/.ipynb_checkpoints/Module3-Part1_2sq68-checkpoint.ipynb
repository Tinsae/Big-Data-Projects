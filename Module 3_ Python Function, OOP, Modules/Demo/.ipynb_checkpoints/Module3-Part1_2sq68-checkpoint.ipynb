{
 "cells": [
  {
   "cell_type": "markdown",
   "metadata": {},
   "source": [
    "# Functions"
   ]
  },
  {
   "cell_type": "code",
   "execution_count": 1,
   "metadata": {
    "collapsed": true
   },
   "outputs": [],
   "source": [
    "import os, sys, json"
   ]
  },
  {
   "cell_type": "markdown",
   "metadata": {},
   "source": [
    "Now we are good to get started with functions"
   ]
  },
  {
   "cell_type": "code",
   "execution_count": 2,
   "metadata": {
    "collapsed": true
   },
   "outputs": [],
   "source": [
    "def process(file_path):\n",
    "    if os.path.exists(file_path):\n",
    "        rp = open(file_path, 'r')\n",
    "        for line in rp:\n",
    "            print(line)\n",
    "        rp.close()"
   ]
  },
  {
   "cell_type": "code",
   "execution_count": 3,
   "metadata": {},
   "outputs": [
    {
     "name": "stdout",
     "output_type": "stream",
     "text": [
      "\"\",\"Murder\",\"Assault\",\"UrbanPop\",\"Rape\"\n",
      "\n",
      "\n",
      "\n",
      "\"Alabama\",13.2,236,58,21.2\n",
      "\n",
      "\n",
      "\n",
      "\"Alaska\",10,263,48,44.5\n",
      "\n",
      "\n",
      "\n",
      "\"Arizona\",8.1,294,80,31\n",
      "\n",
      "\n",
      "\n",
      "\"Arkansas\",8.8,190,50,19.5\n",
      "\n",
      "\n",
      "\n"
     ]
    }
   ],
   "source": [
    "process('Misc/USA_Arrests.txt')"
   ]
  },
  {
   "cell_type": "code",
   "execution_count": 6,
   "metadata": {},
   "outputs": [
    {
     "name": "stdout",
     "output_type": "stream",
     "text": [
      "Enter first number : 10\n",
      "Enter second number : 3\n"
     ]
    },
    {
     "data": {
      "text/plain": [
       "13"
      ]
     },
     "execution_count": 6,
     "metadata": {},
     "output_type": "execute_result"
    }
   ],
   "source": [
    "def add(n1, n2):\n",
    "#     if n1 > n2:\n",
    "#         return n1+n2\n",
    "#     else:\n",
    "#         return n2-n1\n",
    "    return n1+n2 if n1 > n2 else n2-n1\n",
    "\n",
    "# add(10, 30)\n",
    "n1 = input('Enter first number : ')\n",
    "n2 = input('Enter second number : ')\n",
    "n1 = int(n1)\n",
    "n2 = int(n2)\n",
    "add(n1, n2)"
   ]
  },
  {
   "cell_type": "code",
   "execution_count": 8,
   "metadata": {},
   "outputs": [
    {
     "name": "stdout",
     "output_type": "stream",
     "text": [
      "Hello world!\n"
     ]
    },
    {
     "data": {
      "text/plain": [
       "(None, None)"
      ]
     },
     "execution_count": 8,
     "metadata": {},
     "output_type": "execute_result"
    }
   ],
   "source": [
    "def new(a,b):\n",
    "    return\n",
    "\n",
    "def third():\n",
    "    print('Hello world!')\n",
    "    \n",
    "new(1,2), third()"
   ]
  },
  {
   "cell_type": "markdown",
   "metadata": {},
   "source": [
    "# Function Arguments"
   ]
  },
  {
   "cell_type": "markdown",
   "metadata": {},
   "source": [
    "#### This is fourth level heading"
   ]
  },
  {
   "cell_type": "code",
   "execution_count": 11,
   "metadata": {},
   "outputs": [
    {
     "name": "stdout",
     "output_type": "stream",
     "text": [
      "30\n",
      "31\n"
     ]
    }
   ],
   "source": [
    "X = 30\n",
    "\n",
    "def add(a, b):\n",
    "    global X\n",
    "    X = X + 1\n",
    "    c = a + b\n",
    "    #if c > 10:\n",
    "    #    print(c)\n",
    "    return c\n",
    "\n",
    "print(add(10,20))\n",
    "print(X)\n",
    "# print(c)"
   ]
  },
  {
   "cell_type": "code",
   "execution_count": 17,
   "metadata": {},
   "outputs": [
    {
     "data": {
      "text/plain": [
       "7"
      ]
     },
     "execution_count": 17,
     "metadata": {},
     "output_type": "execute_result"
    }
   ],
   "source": [
    "add(3, 4)"
   ]
  },
  {
   "cell_type": "code",
   "execution_count": 18,
   "metadata": {},
   "outputs": [
    {
     "data": {
      "text/plain": [
       "'pythonanaconda'"
      ]
     },
     "execution_count": 18,
     "metadata": {},
     "output_type": "execute_result"
    }
   ],
   "source": [
    "add('python', 'anaconda')"
   ]
  },
  {
   "cell_type": "code",
   "execution_count": 19,
   "metadata": {},
   "outputs": [
    {
     "data": {
      "text/plain": [
       "'anacondapython'"
      ]
     },
     "execution_count": 19,
     "metadata": {},
     "output_type": "execute_result"
    }
   ],
   "source": [
    "add('anaconda', 'python')"
   ]
  },
  {
   "cell_type": "markdown",
   "metadata": {},
   "source": [
    "# Built-In Functions"
   ]
  },
  {
   "cell_type": "code",
   "execution_count": 12,
   "metadata": {},
   "outputs": [
    {
     "data": {
      "text/plain": [
       "['In',\n",
       " 'Out',\n",
       " 'X',\n",
       " '_',\n",
       " '_4',\n",
       " '_5',\n",
       " '_6',\n",
       " '_8',\n",
       " '__',\n",
       " '___',\n",
       " '__builtin__',\n",
       " '__builtins__',\n",
       " '__doc__',\n",
       " '__loader__',\n",
       " '__name__',\n",
       " '__package__',\n",
       " '__spec__',\n",
       " '_dh',\n",
       " '_i',\n",
       " '_i1',\n",
       " '_i10',\n",
       " '_i11',\n",
       " '_i12',\n",
       " '_i2',\n",
       " '_i3',\n",
       " '_i4',\n",
       " '_i5',\n",
       " '_i6',\n",
       " '_i7',\n",
       " '_i8',\n",
       " '_i9',\n",
       " '_ih',\n",
       " '_ii',\n",
       " '_iii',\n",
       " '_oh',\n",
       " 'add',\n",
       " 'exit',\n",
       " 'get_ipython',\n",
       " 'json',\n",
       " 'n1',\n",
       " 'n2',\n",
       " 'new',\n",
       " 'os',\n",
       " 'process',\n",
       " 'quit',\n",
       " 'sys',\n",
       " 'third']"
      ]
     },
     "execution_count": 12,
     "metadata": {},
     "output_type": "execute_result"
    }
   ],
   "source": [
    "dir()"
   ]
  },
  {
   "cell_type": "code",
   "execution_count": 13,
   "metadata": {},
   "outputs": [
    {
     "data": {
      "text/plain": [
       "10"
      ]
     },
     "execution_count": 13,
     "metadata": {},
     "output_type": "execute_result"
    }
   ],
   "source": [
    "abs(-10)"
   ]
  },
  {
   "cell_type": "code",
   "execution_count": 14,
   "metadata": {},
   "outputs": [
    {
     "data": {
      "text/plain": [
       "50"
      ]
     },
     "execution_count": 14,
     "metadata": {},
     "output_type": "execute_result"
    }
   ],
   "source": [
    "sum([20, 30])"
   ]
  },
  {
   "cell_type": "code",
   "execution_count": 15,
   "metadata": {},
   "outputs": [
    {
     "data": {
      "text/plain": [
       "90"
      ]
     },
     "execution_count": 15,
     "metadata": {},
     "output_type": "execute_result"
    }
   ],
   "source": [
    "sum([20,30,40])"
   ]
  },
  {
   "cell_type": "code",
   "execution_count": 16,
   "metadata": {},
   "outputs": [
    {
     "data": {
      "text/plain": [
       "'A'"
      ]
     },
     "execution_count": 16,
     "metadata": {},
     "output_type": "execute_result"
    }
   ],
   "source": [
    "chr(65)"
   ]
  },
  {
   "cell_type": "code",
   "execution_count": 25,
   "metadata": {},
   "outputs": [
    {
     "data": {
      "text/plain": [
       "'a'"
      ]
     },
     "execution_count": 25,
     "metadata": {},
     "output_type": "execute_result"
    }
   ],
   "source": [
    "chr(97)"
   ]
  },
  {
   "cell_type": "code",
   "execution_count": 17,
   "metadata": {},
   "outputs": [
    {
     "data": {
      "text/plain": [
       "12"
      ]
     },
     "execution_count": 17,
     "metadata": {},
     "output_type": "execute_result"
    }
   ],
   "source": [
    "int(12.36)"
   ]
  },
  {
   "cell_type": "code",
   "execution_count": 18,
   "metadata": {},
   "outputs": [
    {
     "data": {
      "text/plain": [
       "True"
      ]
     },
     "execution_count": 18,
     "metadata": {},
     "output_type": "execute_result"
    }
   ],
   "source": [
    "marks = [45, 54, 99, 81, 12, -3]\n",
    "any(marks)"
   ]
  },
  {
   "cell_type": "code",
   "execution_count": 19,
   "metadata": {},
   "outputs": [
    {
     "data": {
      "text/plain": [
       "False"
      ]
     },
     "execution_count": 19,
     "metadata": {},
     "output_type": "execute_result"
    }
   ],
   "source": [
    "marks.append(0)\n",
    "all(marks)"
   ]
  },
  {
   "cell_type": "code",
   "execution_count": 20,
   "metadata": {},
   "outputs": [
    {
     "data": {
      "text/plain": [
       "True"
      ]
     },
     "execution_count": 20,
     "metadata": {},
     "output_type": "execute_result"
    }
   ],
   "source": [
    "marks.remove(0)\n",
    "all(marks)"
   ]
  },
  {
   "cell_type": "code",
   "execution_count": 21,
   "metadata": {},
   "outputs": [
    {
     "data": {
      "text/plain": [
       "[30, 40, 10]"
      ]
     },
     "execution_count": 21,
     "metadata": {},
     "output_type": "execute_result"
    }
   ],
   "source": [
    "list(reversed([10, 40, 30]))"
   ]
  },
  {
   "cell_type": "code",
   "execution_count": 22,
   "metadata": {},
   "outputs": [
    {
     "data": {
      "text/plain": [
       "[99, 81, 54, 45, 12, -3]"
      ]
     },
     "execution_count": 22,
     "metadata": {},
     "output_type": "execute_result"
    }
   ],
   "source": [
    "sorted(marks, reverse=True)"
   ]
  },
  {
   "cell_type": "code",
   "execution_count": 23,
   "metadata": {},
   "outputs": [
    {
     "data": {
      "text/plain": [
       "True"
      ]
     },
     "execution_count": 23,
     "metadata": {},
     "output_type": "execute_result"
    }
   ],
   "source": [
    "names = ['Python', 'Steve', 'Jobs']\n",
    "all(names)"
   ]
  },
  {
   "cell_type": "code",
   "execution_count": 24,
   "metadata": {},
   "outputs": [
    {
     "name": "stdout",
     "output_type": "stream",
     "text": [
      "30\n",
      "40\n",
      "10\n"
     ]
    }
   ],
   "source": [
    "for x in reversed([10, 40, 30]):\n",
    "    print(x)"
   ]
  },
  {
   "cell_type": "code",
   "execution_count": 33,
   "metadata": {},
   "outputs": [
    {
     "name": "stdout",
     "output_type": "stream",
     "text": [
      "0 10\n",
      "1 20\n",
      "2 30\n"
     ]
    }
   ],
   "source": [
    "for index, val in enumerate([10, 20, 30]):\n",
    "    print(index,val)"
   ]
  },
  {
   "cell_type": "code",
   "execution_count": 25,
   "metadata": {},
   "outputs": [
    {
     "data": {
      "text/plain": [
       "'0b10'"
      ]
     },
     "execution_count": 25,
     "metadata": {},
     "output_type": "execute_result"
    }
   ],
   "source": [
    "bin(2)"
   ]
  },
  {
   "cell_type": "code",
   "execution_count": 26,
   "metadata": {},
   "outputs": [
    {
     "data": {
      "text/plain": [
       "'0o50'"
      ]
     },
     "execution_count": 26,
     "metadata": {},
     "output_type": "execute_result"
    }
   ],
   "source": [
    "oct(40)"
   ]
  },
  {
   "cell_type": "code",
   "execution_count": 27,
   "metadata": {},
   "outputs": [
    {
     "data": {
      "text/plain": [
       "'0x4'"
      ]
     },
     "execution_count": 27,
     "metadata": {},
     "output_type": "execute_result"
    }
   ],
   "source": [
    "hex(4)"
   ]
  },
  {
   "cell_type": "code",
   "execution_count": 37,
   "metadata": {},
   "outputs": [
    {
     "ename": "ValueError",
     "evalue": "invalid literal for int() with base 10: '0x4'",
     "output_type": "error",
     "traceback": [
      "\u001b[0;31m---------------------------------------------------------------------------\u001b[0m",
      "\u001b[0;31mValueError\u001b[0m                                Traceback (most recent call last)",
      "\u001b[0;32m<ipython-input-37-45d91f405f30>\u001b[0m in \u001b[0;36m<module>\u001b[0;34m\u001b[0m\n\u001b[0;32m----> 1\u001b[0;31m \u001b[0mint\u001b[0m\u001b[0;34m(\u001b[0m\u001b[0mhex\u001b[0m\u001b[0;34m(\u001b[0m\u001b[0;36m4\u001b[0m\u001b[0;34m)\u001b[0m\u001b[0;34m)\u001b[0m\u001b[0;34m\u001b[0m\u001b[0m\n\u001b[0m",
      "\u001b[0;31mValueError\u001b[0m: invalid literal for int() with base 10: '0x4'"
     ]
    }
   ],
   "source": [
    "int(hex(4))"
   ]
  },
  {
   "cell_type": "code",
   "execution_count": 38,
   "metadata": {},
   "outputs": [
    {
     "name": "stdout",
     "output_type": "stream",
     "text": [
      "4\n"
     ]
    }
   ],
   "source": [
    "v = 0x4\n",
    "print(v)"
   ]
  },
  {
   "cell_type": "code",
   "execution_count": 39,
   "metadata": {},
   "outputs": [
    {
     "data": {
      "text/plain": [
       "63"
      ]
     },
     "execution_count": 39,
     "metadata": {},
     "output_type": "execute_result"
    }
   ],
   "source": [
    "oc = 0o77\n",
    "oc"
   ]
  },
  {
   "cell_type": "markdown",
   "metadata": {},
   "source": [
    "# Lambda, map, filter and reduce"
   ]
  },
  {
   "cell_type": "code",
   "execution_count": 28,
   "metadata": {
    "collapsed": true
   },
   "outputs": [],
   "source": [
    "def sq_func(x):\n",
    "    return x**2 if x > 10 else x**3"
   ]
  },
  {
   "cell_type": "code",
   "execution_count": 29,
   "metadata": {},
   "outputs": [
    {
     "data": {
      "text/plain": [
       "1000"
      ]
     },
     "execution_count": 29,
     "metadata": {},
     "output_type": "execute_result"
    }
   ],
   "source": [
    "sq_func(10)"
   ]
  },
  {
   "cell_type": "code",
   "execution_count": 30,
   "metadata": {},
   "outputs": [
    {
     "data": {
      "text/plain": [
       "121"
      ]
     },
     "execution_count": 30,
     "metadata": {},
     "output_type": "execute_result"
    }
   ],
   "source": [
    "sq_func(11)"
   ]
  },
  {
   "cell_type": "code",
   "execution_count": 31,
   "metadata": {},
   "outputs": [
    {
     "data": {
      "text/plain": [
       "-1"
      ]
     },
     "execution_count": 31,
     "metadata": {},
     "output_type": "execute_result"
    }
   ],
   "source": [
    "sq_func(-1)"
   ]
  },
  {
   "cell_type": "code",
   "execution_count": 32,
   "metadata": {},
   "outputs": [
    {
     "data": {
      "text/plain": [
       "121"
      ]
     },
     "execution_count": 32,
     "metadata": {},
     "output_type": "execute_result"
    }
   ],
   "source": [
    "sq = lambda x : x**2 if x > 10 else x**3 # def add(x, y)\n",
    "sq(11)"
   ]
  },
  {
   "cell_type": "code",
   "execution_count": 33,
   "metadata": {},
   "outputs": [
    {
     "data": {
      "text/plain": [
       "1000"
      ]
     },
     "execution_count": 33,
     "metadata": {},
     "output_type": "execute_result"
    }
   ],
   "source": [
    "sq(10)"
   ]
  },
  {
   "cell_type": "code",
   "execution_count": 34,
   "metadata": {},
   "outputs": [
    {
     "data": {
      "text/plain": [
       "[45, 54, 99, 81, 12, -3]"
      ]
     },
     "execution_count": 34,
     "metadata": {},
     "output_type": "execute_result"
    }
   ],
   "source": [
    "marks"
   ]
  },
  {
   "cell_type": "code",
   "execution_count": 35,
   "metadata": {},
   "outputs": [
    {
     "name": "stdout",
     "output_type": "stream",
     "text": [
      "Needs Improvement\n",
      "Needs Improvement\n",
      "Perfect\n",
      "Perfect\n",
      "Needs Improvement\n",
      "Needs Improvement\n"
     ]
    }
   ],
   "source": [
    "def categorize_marks(mark):\n",
    "    if mark > 70:\n",
    "        return 'Perfect'\n",
    "    else:\n",
    "        return 'Needs Improvement'\n",
    "    \n",
    "for mark in marks:\n",
    "    print(categorize_marks(mark))"
   ]
  },
  {
   "cell_type": "code",
   "execution_count": 41,
   "metadata": {},
   "outputs": [
    {
     "data": {
      "text/plain": [
       "['Needs Improvement',\n",
       " 'Needs Improvement',\n",
       " 'Perfect',\n",
       " 'Perfect',\n",
       " 'Needs Improvement',\n",
       " 'Needs Improvement']"
      ]
     },
     "execution_count": 41,
     "metadata": {},
     "output_type": "execute_result"
    }
   ],
   "source": [
    "list(map(categorize_marks, marks))"
   ]
  },
  {
   "cell_type": "code",
   "execution_count": 38,
   "metadata": {},
   "outputs": [
    {
     "data": {
      "text/plain": [
       "['Needs Improvement',\n",
       " 'Needs Improvement',\n",
       " 'Perfect',\n",
       " 'Perfect',\n",
       " 'Needs Improvement',\n",
       " 'Needs Improvement']"
      ]
     },
     "execution_count": 38,
     "metadata": {},
     "output_type": "execute_result"
    }
   ],
   "source": [
    "list(map(lambda mark: 'Perfect' if mark >= 70 else 'Needs Improvement', marks)) # concise way of transforming values"
   ]
  },
  {
   "cell_type": "code",
   "execution_count": 37,
   "metadata": {},
   "outputs": [
    {
     "data": {
      "text/plain": [
       "[54, 99, 81, -3]"
      ]
     },
     "execution_count": 37,
     "metadata": {},
     "output_type": "execute_result"
    }
   ],
   "source": [
    "list(filter(lambda x: (x >= 50 and x <= 75) or (x < 10 or x > 80), marks)) # concise way of filtering values"
   ]
  },
  {
   "cell_type": "code",
   "execution_count": 39,
   "metadata": {},
   "outputs": [
    {
     "name": "stdout",
     "output_type": "stream",
     "text": [
      "[54, 99, 81, -3]\n"
     ]
    }
   ],
   "source": [
    "high_marks = []\n",
    "for x in marks:\n",
    "    if (x >= 50 and x <= 75) or (x < 10 or x > 80):\n",
    "        high_marks.append(x)\n",
    "print(high_marks)"
   ]
  },
  {
   "cell_type": "code",
   "execution_count": 40,
   "metadata": {},
   "outputs": [
    {
     "name": "stdout",
     "output_type": "stream",
     "text": [
      "54\n",
      "99\n",
      "81\n"
     ]
    }
   ],
   "source": [
    "for x in filter(lambda x: x >= 50, marks):\n",
    "    print(x)"
   ]
  },
  {
   "cell_type": "code",
   "execution_count": 50,
   "metadata": {},
   "outputs": [
    {
     "data": {
      "text/plain": [
       "[54, 99, 81]"
      ]
     },
     "execution_count": 50,
     "metadata": {},
     "output_type": "execute_result"
    }
   ],
   "source": [
    "def is_gt_50(mark):\n",
    "    return mark>=50\n",
    "\n",
    "list(filter(is_gt_50, marks))"
   ]
  },
  {
   "cell_type": "code",
   "execution_count": 42,
   "metadata": {},
   "outputs": [
    {
     "data": {
      "text/plain": [
       "15"
      ]
     },
     "execution_count": 42,
     "metadata": {},
     "output_type": "execute_result"
    }
   ],
   "source": [
    "from functools import reduce\n",
    "reduce((lambda x, y: x+y), range(1,6))"
   ]
  },
  {
   "cell_type": "code",
   "execution_count": 52,
   "metadata": {
    "collapsed": true
   },
   "outputs": [],
   "source": [
    "# 1,2,3,4,5 = (((1*2)*3)*4)*5 => 1*2 (x) 3(y) = x* y = (1*2*3) saved to x (1 * 2 * 3) y (4) "
   ]
  },
  {
   "cell_type": "code",
   "execution_count": 53,
   "metadata": {
    "collapsed": true
   },
   "outputs": [],
   "source": [
    "def f1():\n",
    "    for x in marks:\n",
    "        yield x\n",
    "\n",
    "# print(list(f1()))\n",
    "# x = f1()\n",
    "# for y in f1():\n",
    "#     print(y)\n",
    "x = f1()\n",
    "# x.close\n"
   ]
  },
  {
   "cell_type": "code",
   "execution_count": 48,
   "metadata": {},
   "outputs": [
    {
     "name": "stdout",
     "output_type": "stream",
     "text": [
      "0 1\n",
      "1\n"
     ]
    }
   ],
   "source": [
    "# Generator\n",
    "def elements(int_input):\n",
    "    for x in range(1, int_input+1):\n",
    "        return x\n",
    "    print('Hello')\n",
    "    \n",
    "def gen(x):\n",
    "    for x in range(x):\n",
    "        yield x\n",
    "        \n",
    "gen_obj = gen(100000000000)\n",
    "print(next(gen_obj), next(gen_obj))\n",
    "        \n",
    "print(elements(5))\n",
    "# list(elements(5))\n",
    "# range(1, 11)\n",
    "# for value in elements(5):\n",
    "#     print(value)"
   ]
  },
  {
   "cell_type": "markdown",
   "metadata": {},
   "source": [
    "# Function arguments - positional, keywords, arbitrary length"
   ]
  },
  {
   "cell_type": "code",
   "execution_count": 78,
   "metadata": {
    "collapsed": true
   },
   "outputs": [],
   "source": [
    "def fun(a,b,c=90,*p, **kwargs):\n",
    "    print(a, b, c)\n",
    "    print(p)\n",
    "    print(kwargs)\n",
    "    print(sum([a,b,c,*p,*kwargs.values()]))"
   ]
  },
  {
   "cell_type": "code",
   "execution_count": 77,
   "metadata": {},
   "outputs": [
    {
     "name": "stdout",
     "output_type": "stream",
     "text": [
      "10 20 40\n",
      "(5, 6, 7, 8, 9, 10)\n",
      "{'q': 100, 'r': 120}\n",
      "335\n"
     ]
    }
   ],
   "source": [
    "fun(10, 20, 40, 5, 6 ,7, 8, 9, 10, q=100, r=120)"
   ]
  },
  {
   "cell_type": "code",
   "execution_count": 55,
   "metadata": {},
   "outputs": [
    {
     "name": "stdout",
     "output_type": "stream",
     "text": [
      "10 20 30\n",
      "()\n",
      "{'e': 50}\n"
     ]
    }
   ],
   "source": [
    "# non-default arguments - specify value for every argument\n",
    "# default arguments - default to value specified\n",
    "\n",
    "# positional notation - passing and defining arguments\n",
    "# keyword notation - passing and defining arguments\n",
    "\n",
    "def fun(a,b,c,d=60,*p,**kwargs):\n",
    "    print(a,b,c)\n",
    "    #print(p)\n",
    "    #print(d,e,f)\n",
    "    #print(kwargs)\n",
    "    \n",
    "# fun(10, 20, 30) # positional\n",
    "# fun(a=10,c=20,b=45) # keyword notation\n",
    "fun(a=10, c=30, b=20, d=40, e=50)\n",
    "# fun(10, 20)"
   ]
  },
  {
   "cell_type": "code",
   "execution_count": 56,
   "metadata": {},
   "outputs": [
    {
     "name": "stdout",
     "output_type": "stream",
     "text": [
      "<class 'tuple'> ()\n",
      "<class 'tuple'> (10, 20, 30, 40, 0, 1, 2, 3, 4, 5, 6, 7, 8, 9)\n"
     ]
    }
   ],
   "source": [
    "def pass_the_world(*c):\n",
    "    print(type(c), c)\n",
    "    \n",
    "pass_the_world()\n",
    "pass_the_world(10,20,30,40,*list(range(10)))"
   ]
  },
  {
   "cell_type": "code",
   "execution_count": null,
   "metadata": {
    "collapsed": true
   },
   "outputs": [],
   "source": []
  },
  {
   "cell_type": "code",
   "execution_count": 57,
   "metadata": {},
   "outputs": [
    {
     "name": "stdout",
     "output_type": "stream",
     "text": [
      "10 20 30 3\n",
      "<class 'tuple'>\n",
      "<class 'dict'>\n",
      "()\n",
      "{'k': 10, 'v': 20, 'p': 50}\n"
     ]
    }
   ],
   "source": [
    "# non-default arguments\n",
    "# default arguments\n",
    "# positional notation - passing and defining arguments\n",
    "# keyword notation - passing and defining arguments\n",
    "\n",
    "def format_name(fname, lname, mname=None, reverse=False):\n",
    "    print(type(fname), type(lname), type(reverse))\n",
    "    if reverse:\n",
    "        return lname + ' ' + fname\n",
    "    else:\n",
    "        return fname + ' ' + lname\n",
    "\n",
    "# print(format_name('Python', 'Spark'))\n",
    "\n",
    "# oracle : username, password, tnsname\n",
    "# mysql: username, password, host, port, ssl-key, ssl-ca, ssl-cert\n",
    "def connect(db_type, **kwargs):\n",
    "    oracle_template = 'jdbc:client:://{username}:{password}/{tnsname}/{host}/{port}'\n",
    "    if db_type == 'Oracle':\n",
    "        cxn_str = oracle_template.format(**kwargs) # 'jdbc:client:://{username}:{password}/{tnsname}\n",
    "        print(cxn_str)\n",
    "    elif db_type ==\"mysql\":\n",
    "        cxn_str = oracle_template.format(**kwargs) # 'jdbc:mysql://hist:port/username/password/sslc/sslk'\n",
    "        print(cxn_str)\n",
    "    \n",
    "def add_marks(standard, names=None, **marks):\n",
    "    return sum(marks)\n",
    "\n",
    "def master(ndf1, ndf2, df1=2, df2=3, d=3, *args, **kwargs):\n",
    "    print(ndf1, ndf2, df1, df2)\n",
    "    print(type(args))\n",
    "    print(type(kwargs))\n",
    "    print(args)\n",
    "    print(kwargs)\n",
    "    \n",
    "master(10, 20, df1=30, k=10, v=20, d=30, p=50)\n",
    "#rint(add_marks('Xth', marks=[10, 20, 30, 40, 90, 100, 45, 54]))\n",
    "# connect('mysql', username='Python', password='Anaconda', tnsname='Disaster', host='cloudserver', port='3306')\n"
   ]
  },
  {
   "cell_type": "code",
   "execution_count": 58,
   "metadata": {},
   "outputs": [
    {
     "name": "stdout",
     "output_type": "stream",
     "text": [
      "<class 'tuple'>\n",
      "(10, 20, 30)\n"
     ]
    }
   ],
   "source": [
    "def flexi(*args):\n",
    "    print(type(args))\n",
    "    print(args)\n",
    "    \n",
    "# flexi()\n",
    "flexi(10,20,30)\n",
    "# flexi(10)"
   ]
  },
  {
   "cell_type": "code",
   "execution_count": 59,
   "metadata": {},
   "outputs": [
    {
     "name": "stdout",
     "output_type": "stream",
     "text": [
      "10 20 30\n",
      "(40, 50, 63, 75, 81, 0, 12)\n",
      "381\n",
      "------\n"
     ]
    }
   ],
   "source": [
    "def afun(a,b,c=100,*args):\n",
    "    print(a,b,c)\n",
    "    print(args)\n",
    "    print(a+b+c+sum(args))\n",
    "    print('------')\n",
    "# afun(10,20)\n",
    "# afun(10,20,30)\n",
    "afun(10,20,30,40,50,63,75,81,0,12)"
   ]
  },
  {
   "cell_type": "code",
   "execution_count": 60,
   "metadata": {},
   "outputs": [
    {
     "name": "stdout",
     "output_type": "stream",
     "text": [
      "10 20 30\n",
      "(40, 50, 63, 75, 81, 0, 12)\n",
      "{'d': 40, 'e': 50, 'f': 60}\n",
      "------\n"
     ]
    }
   ],
   "source": [
    "def afun(a,b,c=45,*args,**kwargs):\n",
    "    print(a,b,c)\n",
    "    print(args)\n",
    "    print(kwargs)\n",
    "    print('------')\n",
    "# afun(10,20)\n",
    "# afun(10,20,30)\n",
    "# afun(10,20,30,40,50,63,75,81,0,12)\n",
    "afun(10,20,30,40,50,63,75,81,0,12,d=40,e=50,f=60)"
   ]
  },
  {
   "cell_type": "code",
   "execution_count": null,
   "metadata": {
    "collapsed": true
   },
   "outputs": [],
   "source": []
  }
 ],
 "metadata": {
  "kernelspec": {
   "display_name": "Python 3",
   "language": "python",
   "name": "python3"
  },
  "language_info": {
   "codemirror_mode": {
    "name": "ipython",
    "version": 3
   },
   "file_extension": ".py",
   "mimetype": "text/x-python",
   "name": "python",
   "nbconvert_exporter": "python",
   "pygments_lexer": "ipython3",
   "version": "3.7.1"
  }
 },
 "nbformat": 4,
 "nbformat_minor": 2
}
