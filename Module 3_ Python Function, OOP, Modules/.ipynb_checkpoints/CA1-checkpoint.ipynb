{
 "cells": [
  {
   "cell_type": "code",
   "execution_count": 3,
   "metadata": {},
   "outputs": [
    {
     "name": "stdout",
     "output_type": "stream",
     "text": [
      "distance from (0,0) to (-1,2) is 2.23606797749979\n"
     ]
    }
   ],
   "source": [
    "# 1\n",
    "import math\n",
    "# origin\n",
    "x1 = 0\n",
    "y1 = 0\n",
    "# directions\n",
    "up = 5\n",
    "down = 3\n",
    "right = 2\n",
    "left = 3\n",
    "# get destination coordinates\n",
    "x2 = right - left\n",
    "y2 = up - down \n",
    "\n",
    "dist = math.hypot(x2-x1, y2-y1)\n",
    "print(f\"distance from ({x1},{y1}) to ({x2},{y2}) is {dist}\")"
   ]
  },
  {
   "cell_type": "code",
   "execution_count": 11,
   "metadata": {},
   "outputs": [
    {
     "name": "stdout",
     "output_type": "stream",
     "text": [
      "[1, 2, 3, 3.5, 4, 5.5, 8, 9, 11]\n"
     ]
    },
    {
     "data": {
      "text/plain": [
       "2"
      ]
     },
     "execution_count": 11,
     "metadata": {},
     "output_type": "execute_result"
    }
   ],
   "source": [
    "# 2\n",
    "def binary_search(listt, key):\n",
    "    lower = 0\n",
    "    upper = len(listt)\n",
    "    while lower < upper:   # use < instead of <=\n",
    "        x = lower + (upper - lower) // 2\n",
    "        val = listt[x]\n",
    "        if key == val:\n",
    "            return x\n",
    "        elif key > val:\n",
    "            if lower == x:   # these two are the actual lines\n",
    "                break        # you're looking for\n",
    "            lower = x\n",
    "        elif key < val:\n",
    "            upper = x\n",
    "            \n",
    "    # go back to match\n",
    "xyz_data = sorted([1, 2, 3,11, 5.5, 3.5, 9, 8, 4])\n",
    "print(xyz_data)\n",
    "# search 3\n",
    "binary_search(xyz_data, 3)"
   ]
  },
  {
   "cell_type": "code",
   "execution_count": 12,
   "metadata": {},
   "outputs": [
    {
     "name": "stdout",
     "output_type": "stream",
     "text": [
      "9999\n",
      "1\n",
      "<class 'datetime.time'>\n",
      "<class 'datetime.timezone'>\n",
      "2019-07-07 16:48:13.230439\n",
      "8882 days, 18:38:13.230439\n",
      "8882 days, 18:38:13.230439\n"
     ]
    }
   ],
   "source": [
    "import datetime\n",
    "\n",
    "print(datetime.MAXYEAR)\n",
    "\n",
    "print(datetime.MINYEAR)\n",
    "\n",
    "print(datetime.time)\n",
    "\n",
    "print(datetime.timezone)\n",
    "\n",
    "\n",
    "\n",
    "\n",
    "import datetime\n",
    "print(datetime.datetime.today())\n",
    "\n",
    "now=datetime.datetime.today()\n",
    "other=datetime.datetime(1995,3,12,22,10)\n",
    "print(now-other)\n",
    "datetime.timedelta(18901,55547,421000)\n",
    "print(now-other)"
   ]
  },
  {
   "cell_type": "code",
   "execution_count": null,
   "metadata": {},
   "outputs": [],
   "source": []
  }
 ],
 "metadata": {
  "kernelspec": {
   "display_name": "Python 3",
   "language": "python",
   "name": "python3"
  },
  "language_info": {
   "codemirror_mode": {
    "name": "ipython",
    "version": 3
   },
   "file_extension": ".py",
   "mimetype": "text/x-python",
   "name": "python",
   "nbconvert_exporter": "python",
   "pygments_lexer": "ipython3",
   "version": "3.7.1"
  }
 },
 "nbformat": 4,
 "nbformat_minor": 2
}
