{
 "cells": [
  {
   "cell_type": "code",
   "execution_count": 1,
   "metadata": {},
   "outputs": [
    {
     "name": "stdout",
     "output_type": "stream",
     "text": [
      "Enter profession: dancer\n",
      "Not eligible due to your job\n",
      "Enter profession: admin\n",
      "Not eligible due to your job\n",
      "Enter profession: manager\n",
      "Not eligible due to your job\n",
      "Enter profession: shop\n",
      "Not eligible due to your job\n",
      "Enter profession: keeper\n",
      "Not eligible due to your job\n",
      "Enter profession: database administrator\n",
      "Not eligible due to your job\n",
      "Enter profession: student\n",
      "You are eligible\n",
      "Enter profession: end\n"
     ]
    }
   ],
   "source": [
    "#!/usr/bin/env python\n",
    "# coding: utf-8\n",
    "\n",
    "# In[19]:\n",
    "\n",
    "\n",
    "# Read file bank-data.csv\n",
    "import csv,sys\n",
    "with open('datasets/bank-data.csv', newline='') as csvfile:\n",
    "    reader = csv.reader(csvfile)\n",
    "    # Skip first line\n",
    "    next(reader)\n",
    "    # Build a set of unique jobs\n",
    "    profs = set()\n",
    "    # Store age in dictionary\n",
    "    age_dict = {\"min_age\":1e20, \"max_age\":-1}\n",
    "    # Compute max and min age\n",
    "    min_age = 1e20\n",
    "    max_age = -1\n",
    "    for row in reader:\n",
    "        age = int(row[0])\n",
    "        if age < age_dict[\"min_age\"]:\n",
    "            age_dict[\"min_age\"] = age\n",
    "        if age > age_dict[\"max_age\"]:\n",
    "            age_dict[\"max_age\"] = age\n",
    "        prof = row[1]\n",
    "        profs.add(prof.lower().strip())\n",
    "# End only if user types \"END\" for profession\n",
    "prof = \"scientist\"\n",
    "while(True):\n",
    "    # Read the input from command line –profession\n",
    "    prof = input(\"Enter profession: \")\n",
    "    if(prof.lower() == \"end\"):\n",
    "        break\n",
    "    # Check if profession is in list\n",
    "    # Print whether client is eligible\n",
    "    # Make the profession check case insensitive\n",
    "    if(prof.lower() in profs):\n",
    "        if(age >= age_dict[\"min_age\"] and age <= age_dict[\"max_age\"]):\n",
    "            print(\"You are eligible\")\n",
    "        else:\n",
    "            print(\"Not eligible due to your age\")\n",
    "    else:\n",
    "        print(\"Not eligible due to your job\")\n"
   ]
  },
  {
   "cell_type": "code",
   "execution_count": null,
   "metadata": {},
   "outputs": [],
   "source": []
  }
 ],
 "metadata": {
  "kernelspec": {
   "display_name": "Python 3",
   "language": "python",
   "name": "python3"
  },
  "language_info": {
   "codemirror_mode": {
    "name": "ipython",
    "version": 3
   },
   "file_extension": ".py",
   "mimetype": "text/x-python",
   "name": "python",
   "nbconvert_exporter": "python",
   "pygments_lexer": "ipython3",
   "version": "3.7.1"
  }
 },
 "nbformat": 4,
 "nbformat_minor": 2
}
