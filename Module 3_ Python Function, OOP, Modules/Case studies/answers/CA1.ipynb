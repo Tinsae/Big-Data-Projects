{
 "cells": [
  {
   "cell_type": "code",
   "execution_count": 1,
   "metadata": {},
   "outputs": [
    {
     "name": "stdout",
     "output_type": "stream",
     "text": [
      "distance from (0,0) to (-1,2) is 2.23606797749979\n"
     ]
    }
   ],
   "source": [
    "# 1\n",
    "import math\n",
    "# origin\n",
    "x1 = 0\n",
    "y1 = 0\n",
    "# directions\n",
    "up = 5\n",
    "down = 3\n",
    "right = 2\n",
    "left = 3\n",
    "# get destination coordinates\n",
    "x2 = right - left\n",
    "y2 = up - down \n",
    "\n",
    "dist = math.hypot(x2-x1, y2-y1)\n",
    "print(f\"distance from ({x1},{y1}) to ({x2},{y2}) is {dist}\")"
   ]
  },
  {
   "cell_type": "code",
   "execution_count": 2,
   "metadata": {},
   "outputs": [
    {
     "name": "stdout",
     "output_type": "stream",
     "text": [
      "[1, 2, 3, 3.5, 4, 5.5, 8, 9, 11]\n"
     ]
    },
    {
     "data": {
      "text/plain": [
       "2"
      ]
     },
     "execution_count": 2,
     "metadata": {},
     "output_type": "execute_result"
    }
   ],
   "source": [
    "# 2\n",
    "def binary_search(listt, key):\n",
    "    lower = 0\n",
    "    upper = len(listt)\n",
    "    while lower < upper:   # use < instead of <=\n",
    "        x = lower + (upper - lower) // 2\n",
    "        val = listt[x]\n",
    "        if key == val:\n",
    "            return x\n",
    "        elif key > val:\n",
    "            if lower == x:   # these two are the actual lines\n",
    "                break        # you're looking for\n",
    "            lower = x\n",
    "        elif key < val:\n",
    "            upper = x\n",
    "            \n",
    "    # go back to match\n",
    "xyz_data = sorted([1, 2, 3,11, 5.5, 3.5, 9, 8, 4])\n",
    "print(xyz_data)\n",
    "# search 3\n",
    "binary_search(xyz_data, 3)"
   ]
  },
  {
   "cell_type": "code",
   "execution_count": 3,
   "metadata": {},
   "outputs": [
    {
     "name": "stdout",
     "output_type": "stream",
     "text": [
      "It is night-time\n"
     ]
    }
   ],
   "source": [
    "# 3\n",
    "import time\n",
    "mytime = time.localtime()\n",
    "if mytime.tm_hour < 6 or mytime.tm_hour > 20:\n",
    "    print ('It is night-time')\n",
    "else:\n",
    "    print ('It is day-time')"
   ]
  },
  {
   "cell_type": "code",
   "execution_count": 4,
   "metadata": {},
   "outputs": [
    {
     "name": "stdout",
     "output_type": "stream",
     "text": [
      "2.48 km\n"
     ]
    }
   ],
   "source": [
    "# 4\n",
    "from math import sin, cos, sqrt, atan2, radians\n",
    "\n",
    "def find_distance(point1, point2):\n",
    "    lat1 = radians(point1[0])\n",
    "    lon1 = radians(point1[1])\n",
    "    lat2 = radians(point2[0])\n",
    "    lon2 = radians(point2[1])\n",
    "    # approximate radius of earth in km\n",
    "    R = 6373.0\n",
    "\n",
    "    dlon = lon2 - lon1\n",
    "    dlat = lat2 - lat1\n",
    "\n",
    "    a = sin(dlat / 2)**2 + cos(lat1) * cos(lat2) * sin(dlon / 2)**2\n",
    "    c = 2 * atan2(sqrt(a), sqrt(1 - a))\n",
    "\n",
    "    distance = R * c\n",
    "\n",
    "    return distance\n",
    "# silver sprig metro station\n",
    "p1 = (-77.031586, 38.995177)\n",
    "# washington dc\n",
    "p2 = (-77.039894, 38.902788)\n",
    "print(\"{:.2f} km\".format(find_distance(p1, p2)))"
   ]
  },
  {
   "cell_type": "code",
   "execution_count": 5,
   "metadata": {},
   "outputs": [
    {
     "name": "stdout",
     "output_type": "stream",
     "text": [
      "\n",
      "\n",
      "Welcome To Bank\n",
      "\n",
      "Enter user name: tinsae\n",
      "Enter password: 1234\n",
      "Login successeful\n",
      "Enter 1 to withdraw\n",
      "Enter 2 to deposit\n",
      "Enter 3 to check balance\n",
      "Enter 4 to change password\n",
      "Enter 5 to exit\n",
      "5\n",
      "\n",
      "Showing all account balances\n",
      "\n",
      "Name     Balance\n",
      "tinsae   5000.00\n",
      "sardeep  3000.00\n"
     ]
    }
   ],
   "source": [
    "# 5\n",
    "# username: [password, balance]\n",
    "users = {\"tinsae\": [\"1234\", 5000], \"sardeep\": [\"ad33%#1bbD\", 3000]}\n",
    "\n",
    "def withdraw(name, amount):\n",
    "    if amount <= users[name][1]:\n",
    "        users[name][1] -= amount\n",
    "    else:\n",
    "        print(\"insufficient balance\")\n",
    "            \n",
    "def deposit(name, amount):\n",
    "        users[name][1] += amount\n",
    "        \n",
    "def validate_user(name, password):\n",
    "    if name in users and users[name][0] == password:\n",
    "        return True\n",
    "    else:\n",
    "        return False\n",
    "def change_pass(name, new_pass):\n",
    "    users[name][0] = new_pass\n",
    "    print(\"password changed\\n\")\n",
    "\n",
    "def display_balance(name):\n",
    "    print(\"Current balance: \", users[name][1])\n",
    "def display_all_balances():\n",
    "    print(\"{:8s} {:6s}\".format(\"Name\", \"Balance\"))\n",
    "    for name, others in users.items():\n",
    "        print(\"{:8s} {:6.2f}\".format(name, others[1]))\n",
    " \n",
    "while(True):\n",
    "    print(\"\\n\\nWelcome To Bank\\n\")\n",
    "    name = input(\"Enter user name: \")\n",
    "    password = input(\"Enter password: \")\n",
    "\n",
    "    if(validate_user(name, password)):\n",
    "        print(\"Login successeful\")\n",
    "        print(\"Enter 1 to withdraw\")\n",
    "        print(\"Enter 2 to deposit\")\n",
    "        print(\"Enter 3 to check balance\")\n",
    "        print(\"Enter 4 to change password\")\n",
    "        print(\"Enter 5 to exit\")\n",
    "\n",
    "\n",
    "        choice = input()\n",
    "        if(int(choice) == 1):\n",
    "            withdraw(name, float(input(\"Enter amount: \")))\n",
    "        elif(int(choice) == 2):\n",
    "            deposit(name, float(input(\"Enter amount: \")))\n",
    "        elif(int(choice) == 3):\n",
    "            display_balance(name)\n",
    "        elif(int(choice) == 4):\n",
    "            change_pass(name, input(\"Enter new password: \"))\n",
    "        elif(int(choice) == 5):\n",
    "            break\n",
    "        else:\n",
    "            print(\"wrong choice\")\n",
    "# see all account balances\n",
    "print(\"\\nShowing all account balances\\n\")\n",
    "display_all_balances()"
   ]
  },
  {
   "cell_type": "code",
   "execution_count": 6,
   "metadata": {},
   "outputs": [
    {
     "name": "stdout",
     "output_type": "stream",
     "text": [
      "2002,2009,2016,2023,2037,2044,2051,2058,2072,2079,2086,2093,2107,2114,2121,2128,2142,2149,2156,2163,2177,2184,2191,2198,2212,2219,2226,2233,2247,2254,2261,2268,2282,2289,2296,2303,2317,2324,2331,2338,2352,2359,2366,2373,2387,2394,2401,2408,2422,2429,2436,2443,2457,2464,2471,2478,2492,2499,2506,2513,2527,2534,2541,2548,2562,2569,2576,2583,2597,2604,2611,2618,2632,2639,2646,2653,2667,2674,2681,2688,2702,2709,2716,2723,2737,2744,2751,2758,2772,2779,2786,2793,2807,2814,2821,2828,2842,2849,2856,2863,2877,2884,2891,2898,2912,2919,2926,2933,2947,2954,2961,2968,2982,2989,2996,3003,3017,3024,3031,3038,3052,3059,3066,3073,3087,3094,3101,3108,3122,3129,3136,3143,3157,3164,3171,3178,3192,3199\n"
     ]
    }
   ],
   "source": [
    "#6 \n",
    "result = []\n",
    "for num in range(2000, 3201):\n",
    "    not_5 = num % 5 != 0\n",
    "    div_7 = num % 7 == 0\n",
    "    if(not_5 and div_7):\n",
    "        result.append(str(num))\n",
    "print(\",\".join(result))"
   ]
  },
  {
   "cell_type": "code",
   "execution_count": 7,
   "metadata": {},
   "outputs": [
    {
     "name": "stdout",
     "output_type": "stream",
     "text": [
      "4\n",
      "24\n"
     ]
    }
   ],
   "source": [
    "# 7\n",
    "def factorial(num):\n",
    "    if(num == 1):\n",
    "        return 1\n",
    "    return num * factorial(num - 1)\n",
    "\n",
    "print(factorial(int(input())))"
   ]
  },
  {
   "cell_type": "code",
   "execution_count": 8,
   "metadata": {},
   "outputs": [
    {
     "name": "stdout",
     "output_type": "stream",
     "text": [
      "10,20,30\n",
      "5,8,10\n"
     ]
    }
   ],
   "source": [
    "# 8\n",
    "import math\n",
    "C = 50\n",
    "H = 30\n",
    "\n",
    "D = input().split(\",\")\n",
    "calc = lambda d: int(math.sqrt((2 * C * int(d)) / H))\n",
    "Q  = [str(calc(d)) for d in D]\n",
    "print(\",\".join(Q ))"
   ]
  },
  {
   "cell_type": "code",
   "execution_count": 9,
   "metadata": {},
   "outputs": [
    {
     "name": "stdout",
     "output_type": "stream",
     "text": [
      "3,3\n",
      "[[0, 0, 0], [0, 1, 2], [0, 2, 4]]\n"
     ]
    }
   ],
   "source": [
    "#9\n",
    "rows, cols = input().split(\",\")\n",
    "rows = int(rows)\n",
    "cols = int(cols)\n",
    "table = [[x * y for y in range(cols)] for x in range(rows)]\n",
    "print(table)"
   ]
  },
  {
   "cell_type": "code",
   "execution_count": 10,
   "metadata": {},
   "outputs": [
    {
     "name": "stdout",
     "output_type": "stream",
     "text": [
      "tin, giz, alex\n",
      "alex,giz,tin\n"
     ]
    }
   ],
   "source": [
    "#10\n",
    "words = [s.strip() for s in input().split(\",\")]\n",
    "print(\",\".join(sorted(words)))"
   ]
  },
  {
   "cell_type": "code",
   "execution_count": 11,
   "metadata": {},
   "outputs": [
    {
     "name": "stdout",
     "output_type": "stream",
     "text": [
      "tinsae is great\n",
      "is isn't he?\n",
      "TINSAE IS GREAT\n",
      "IS ISN'T HE?\n"
     ]
    }
   ],
   "source": [
    "#11\n",
    "\n",
    "line1 = input()\n",
    "line2 = input()\n",
    "\n",
    "print(line1.upper())\n",
    "print(line2.upper())"
   ]
  },
  {
   "cell_type": "code",
   "execution_count": 12,
   "metadata": {},
   "outputs": [
    {
     "name": "stdout",
     "output_type": "stream",
     "text": [
      "world wide wait\n",
      "wait wide world\n"
     ]
    }
   ],
   "source": [
    "#12\n",
    "words = sorted(set(input().split(\" \")))\n",
    "print(\" \".join(words))"
   ]
  },
  {
   "cell_type": "code",
   "execution_count": 13,
   "metadata": {},
   "outputs": [
    {
     "name": "stdout",
     "output_type": "stream",
     "text": [
      "0100, 0111, 1111, 1010\n",
      " 1111 1010\n"
     ]
    }
   ],
   "source": [
    "# 13\n",
    "numbers = [num for num in input().split(\",\") if int(num, 2) % 5 == 0 ]\n",
    "print(\"\".join(numbers))"
   ]
  },
  {
   "cell_type": "code",
   "execution_count": 21,
   "metadata": {},
   "outputs": [
    {
     "name": "stdout",
     "output_type": "stream",
     "text": [
      "Hello world!\n",
      "UPPER CASE  1\n",
      "LOWER CASE  9\n"
     ]
    }
   ],
   "source": [
    "# 14\n",
    "sentence = input()\n",
    "upper = 0\n",
    "lower = 0\n",
    "\n",
    "for s in sentence:\n",
    "    if(s.islower()):\n",
    "        lower += 1\n",
    "    elif(s.isupper()):\n",
    "        upper += 1\n",
    "    else:\n",
    "        pass\n",
    "print(\"UPPER CASE \", upper)\n",
    "print(\"LOWER CASE \", lower)"
   ]
  },
  {
   "cell_type": "code",
   "execution_count": 30,
   "metadata": {},
   "outputs": [
    {
     "name": "stdout",
     "output_type": "stream",
     "text": [
      "sum  1.0000000000000007\n",
      "fsum  1.0\n"
     ]
    }
   ],
   "source": [
    "# 15\n",
    "import math\n",
    "print(\"sum \", sum([0.01]*100))\n",
    "# fsum is more accurate\n",
    "print(\"fsum \", math.fsum([0.01]*100))"
   ]
  }
 ],
 "metadata": {
  "kernelspec": {
   "display_name": "Python 3",
   "language": "python",
   "name": "python3"
  },
  "language_info": {
   "codemirror_mode": {
    "name": "ipython",
    "version": 3
   },
   "file_extension": ".py",
   "mimetype": "text/x-python",
   "name": "python",
   "nbconvert_exporter": "python",
   "pygments_lexer": "ipython3",
   "version": "3.7.1"
  }
 },
 "nbformat": 4,
 "nbformat_minor": 2
}
