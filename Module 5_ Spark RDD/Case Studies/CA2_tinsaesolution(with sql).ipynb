{
 "cells": [
  {
   "cell_type": "code",
   "execution_count": 11,
   "metadata": {
    "collapsed": true
   },
   "outputs": [],
   "source": [
    "from pyspark import SparkConf, SparkContext, SparkFiles\n",
    "from pyspark.sql import SQLContext, SparkSession, Row"
   ]
  },
  {
   "cell_type": "code",
   "execution_count": 2,
   "metadata": {
    "collapsed": true
   },
   "outputs": [],
   "source": [
    "# spark session\n",
    "spark = SparkSession.builder.appName(\"M5-CA2-ApacheLogs-TGA(with SQL)\").getOrCreate() # singleton instance"
   ]
  },
  {
   "cell_type": "code",
   "execution_count": 12,
   "metadata": {
    "collapsed": true
   },
   "outputs": [],
   "source": [
    "location = \"/user/edureka_672184/use_cases/Logs/access.clean.log\"\n",
    "raw = spark.read.text(location)\n",
    "# type(raw) is dataframe\n",
    "# r[0] is needed because each data is a Row object inside a list\n",
    "df = raw.rdd.map(lambda r:r[0].split(\" \")).map(lambda arr:Row(remote_host=arr[0], timestamp=arr[3].replace(\"[\",\"\"), request_type=arr[5],url=arr[6],status_code=arr[8])).toDF()\n",
    "df.registerTempTable(\"logs\")"
   ]
  },
  {
   "cell_type": "code",
   "execution_count": 15,
   "metadata": {},
   "outputs": [
    {
     "name": "stdout",
     "output_type": "stream",
     "text": [
      "+--------+\n",
      "|count(1)|\n",
      "+--------+\n",
      "|  227089|\n",
      "+--------+\n",
      "\n"
     ]
    }
   ],
   "source": [
    "spark.sql(\"SELECT count(*) FROM logs WHERE status_code='404'\").show()"
   ]
  },
  {
   "cell_type": "code",
   "execution_count": 16,
   "metadata": {},
   "outputs": [
    {
     "name": "stdout",
     "output_type": "stream",
     "text": [
      "+--------+\n",
      "|count(1)|\n",
      "+--------+\n",
      "|       0|\n",
      "+--------+\n",
      "\n"
     ]
    }
   ],
   "source": [
    "spark.sql(\"SELECT count(*) FROM logs WHERE status_code='204'\").show()"
   ]
  },
  {
   "cell_type": "code",
   "execution_count": 23,
   "metadata": {},
   "outputs": [
    {
     "name": "stdout",
     "output_type": "stream",
     "text": [
      "+--------+\n",
      "|count(1)|\n",
      "+--------+\n",
      "|       0|\n",
      "+--------+\n",
      "\n"
     ]
    }
   ],
   "source": [
    "filterCond = \" is Null or \".join(df.columns) + \" is Null\" \n",
    "\n",
    "spark.sql(\"SELECT COUNT(*) FROM logs WHERE \" + filterCond).show()"
   ]
  },
  {
   "cell_type": "code",
   "execution_count": 24,
   "metadata": {},
   "outputs": [
    {
     "name": "stdout",
     "output_type": "stream",
     "text": [
      "+-----------+-------+\n",
      "|status_code|    cnt|\n",
      "+-----------+-------+\n",
      "|        200|1157831|\n",
      "|        206| 939929|\n",
      "|        404| 227089|\n",
      "|        304|   6330|\n",
      "|        500|   3252|\n",
      "|        403|   2222|\n",
      "|        301|    619|\n",
      "|        303|    247|\n",
      "|        401|    153|\n",
      "|        501|    143|\n",
      "|        405|     83|\n",
      "|        406|     53|\n",
      "|        400|     23|\n",
      "|        412|     19|\n",
      "|   HTTP/1.1|     13|\n",
      "+-----------+-------+\n",
      "\n"
     ]
    }
   ],
   "source": [
    "spark.sql(\"select status_code, count(*) as cnt from logs group by status_code order by cnt desc\").show()"
   ]
  },
  {
   "cell_type": "code",
   "execution_count": 25,
   "metadata": {},
   "outputs": [
    {
     "name": "stdout",
     "output_type": "stream",
     "text": [
      "+---------------+--------+\n",
      "|    remote_host|count(1)|\n",
      "+---------------+--------+\n",
      "|  180.76.15.162|      75|\n",
      "|  110.77.220.20|       1|\n",
      "|  5.235.113.230|       1|\n",
      "|  95.181.27.133|       1|\n",
      "|180.153.232.170|       7|\n",
      "|   199.30.24.91|      54|\n",
      "|  91.121.79.180|     105|\n",
      "| 162.253.64.155|       3|\n",
      "|   62.210.80.77|       5|\n",
      "|  196.16.15.228|       2|\n",
      "|   83.94.47.160|       1|\n",
      "|  95.108.181.71|      19|\n",
      "|   196.17.9.145|       1|\n",
      "|   89.35.30.210|       1|\n",
      "| 147.75.210.233|      10|\n",
      "|   91.141.0.218|      68|\n",
      "|213.251.182.111|       8|\n",
      "|213.177.106.194|       1|\n",
      "| 217.70.253.127|       6|\n",
      "| 177.73.233.241|       8|\n",
      "+---------------+--------+\n",
      "only showing top 20 rows\n",
      "\n"
     ]
    }
   ],
   "source": [
    "spark.sql(\"select remote_host, count(*) from logs group by remote_host\").show()"
   ]
  },
  {
   "cell_type": "code",
   "execution_count": null,
   "metadata": {
    "collapsed": true
   },
   "outputs": [],
   "source": []
  }
 ],
 "metadata": {
  "kernelspec": {
   "display_name": "PySpark",
   "language": "python",
   "name": "pyspark"
  },
  "language_info": {
   "codemirror_mode": {
    "name": "ipython",
    "version": 2
   },
   "file_extension": ".py",
   "mimetype": "text/x-python",
   "name": "python",
   "nbconvert_exporter": "python",
   "pygments_lexer": "ipython2",
   "version": "2.7.14"
  }
 },
 "nbformat": 4,
 "nbformat_minor": 2
}
